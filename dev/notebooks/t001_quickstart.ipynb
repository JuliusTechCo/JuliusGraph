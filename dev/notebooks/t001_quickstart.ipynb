{
 "cells": [
  {
   "cell_type": "markdown",
   "source": [
    "# Tutorial 1: Quick Start"
   ],
   "metadata": {}
  },
  {
   "cell_type": "markdown",
   "source": [
    "## How to use this tutorial\n",
    "\n",
    "  * Select \"run all cells\" on this notebook from the Run menu in Jupyter notebook or Jupyter\n",
    "    lab. This step will produce the intermediate data output and charts. You can also run\n",
    "    individual cells by selecting that cell and pressing `Shift+Enter` key.\n",
    "  * Some cells print out a url, which you can click on and bring up an interactive web UI to\n",
    "    visualize the graph data.\n",
    "  * Time Limits: please be aware of the following time limits to conserve CPU and memory:\n",
    "    * 15 min: Some tutorials use local clusters consisting of multiple processes to mimic\n",
    "      the effects of graph distribution over a remote cluster. By default, these local clusters\n",
    "      automatically stop after idling for 15 minutes.\n",
    "      If you see an 504 gateway timeout error in the web UI, it is most likely your local cluster has stopped.\n",
    "      In that case, you will need to rerun the entire notebook by selecting \"Restart Kernel and Run All Cells\".\n",
    "    * 1 hour: notebook kernels will terminate after no user activity for 1 hour, the kernel\n",
    "      status on the right upper corner will show \"No Kernel\" afterwards. You can select\n",
    "      \"Restart Kernel and Run All Cells\" from the Kernel menu, to restart the kernel and re-run\n",
    "      the notebook.\n",
    "    * 2 hours: you will be logged out if no user activity for 2 hours. Afterwards you need\n",
    "      to login to Julius dev environment again by going to [https://juliusgraph.com](https://juliusgraph.com)\n",
    "  * Additional resources (video demos & blogs) are available at http://juliustech.co.\n",
    "  * To report bugs or request new features, please raise an issue\n",
    "    [here](https://github.com/JuliusTechCo/JuliusGraph/issues).\n",
    "    To schedule a live demo, please go to [http://juliustech.co](http://juliustech.co).\n",
    "    Please email us at info@juliustech.co for other general inquiries."
   ],
   "metadata": {}
  },
  {
   "cell_type": "markdown",
   "source": [
    "## Introduction\n",
    "\n",
    "Julius is an auto-scaling, low-code, and visual graph computing solution that can build\n",
    "sophisticated data and analytical pipelines with very little code. This tutorial is a quick\n",
    "start guide on the basic concepts and programming API of the Julius Graph Engine. You can find\n",
    "introductory videos and blogs on graph computing at\n",
    "[http://juliustech.co](http://juliustech.co) if you are new to the subject.\n",
    "\n",
    "Julius Graph Engine is implemented in [Julia](https://julialang.org/) programming language.\n",
    "Prior knowledge of Julia is not required to follow this tutorial, as developers mainly\n",
    "interact with Julius\n",
    "GraphEngine through the Julius RulesDSL (a domain specific language), which only uses a\n",
    "small sub set of Julia syntax. If you have programming experience in Python or Matlab,\n",
    "you can follow this guide without much difficulty. We will highlight and explain some key\n",
    "Julia specific syntax in this tutorial for Python/Matlab developers.\n",
    "\n",
    "This tutorial is organized around three key concepts in Julius Graph Engine: Atoms, Rules and\n",
    "Runtime.\n",
    "\n",
    "## 1. Atoms\n",
    "\n",
    "`Atom` is an abstract Julia type. It is the most fundamental building block of Julius Graph\n",
    "Engine and represents atomic operations. The name `Atom` is chosen because they are the\n",
    "minimum unit of distribution and caching in the Julius Graph Engine. Atoms cannot be broken\n",
    "apart further for those purposes. The `Atom` interface enables the Julius Graph Engine to access\n",
    "functionalities implemented in existing software libraries. `Atom`s can be implemented in all\n",
    "major programming languages, such as Python, C/C++, Java, .Net, R and Julia etc. Existing\n",
    "functions written in these languages can be easily wrapped up under the `Atom` interface and\n",
    "used in the Julius Graph.\n",
    "\n",
    "There are several different subtypes of Atoms for different use cases. We first introduce\n",
    "`Datom`, which is the most generic `Atom` type that encapsulates any numerical or data\n",
    "operation. The `Datom` interface only exposes a single method called ```fwddata!```. The\n",
    "```...``` syntax in the function signature is a Julia specific syntax for catching a varying\n",
    "number of arguments. A subtype of `Datom` must override this method to implement its specific\n",
    "data or analytical algorithms.\n",
    "\n",
    "```julia\n",
    "fwddata!(self::Datom, xs...)\n",
    "```\n",
    "\n",
    "The `fwddata!` method can take any number of input data objects in `xs` and **must return a\n",
    "vector** of output objects. The return type of vector is chosen to be explicit that the\n",
    "output could contain multiple objects.\n",
    "\n",
    "The following code snippets create a `Datom` that computes the weighted sum of an input vector\n",
    "of `DataFrame` objects. `DataFrame` is the popular choice for representing tabular data in\n",
    "data science applications. Julia's `DataFrame` provides similar functionalities as\n",
    "Python pandas Dataframe. A developer is free to choose other input/output types for\n",
    "writing their own `Datoms`, as the `xs` in the `fwddata!` can be any data type.\n",
    "\n",
    "The following cells contain a complete implementation of the weighted sum `Datom`."
   ],
   "metadata": {}
  },
  {
   "outputs": [],
   "cell_type": "code",
   "source": [
    "using DataFrames, Base.CoreLogging\n",
    "using GraphEngine: RuleDSL, GraphVM # RuleDSL package has all the APIs and type definitions of Julius Graph Engine\n",
    "using GraphIO\n",
    "\n",
    "# turn off information logging output, only show errors and warning\n",
    "disable_logging(CoreLogging.Info)\n",
    "\n",
    "# this method needs to be extended when declaring new datoms\n",
    "import GraphEngine.RuleDSL: fwddata!\n",
    "\n",
    "struct WSumDF <: RuleDSL.Datom\n",
    "    weights::Vector{Float64}\n",
    "end\n",
    "\n",
    "function fwddata!(self::WSumDF, dfs::DataFrame...)\n",
    "    @assert length(dfs) == length(self.weights) && length(dfs) > 0 \"invalid input size\"\n",
    "    sum = self.weights[1] .* dfs[1]\n",
    "\n",
    "    for i=2:length(self.weights)\n",
    "        sum .+= (self.weights[i] .* dfs[i])\n",
    "    end\n",
    "\n",
    "    return [sum] # must return a vector\n",
    "end"
   ],
   "metadata": {},
   "execution_count": null
  },
  {
   "cell_type": "markdown",
   "source": [
    "Next, we show how to use `Datom` to compute the weighted sum of `DataFrame`s."
   ],
   "metadata": {}
  },
  {
   "outputs": [],
   "cell_type": "code",
   "source": [
    "using Random\n",
    "\n",
    "ws = [1.0; 2.0; 3.0]\n",
    "xlen = 10\n",
    "xs = [rand(xlen), rand(xlen), rand(xlen)]\n",
    "\n",
    "wsumd = WSumDF(ws)\n",
    "dfs = [DataFrame(v=x) for x in xs] # create 3 data frames\n",
    "ysd = RuleDSL.fwddata!(wsumd, dfs...)\n",
    "first(ysd)"
   ],
   "metadata": {},
   "execution_count": null
  },
  {
   "cell_type": "markdown",
   "source": [
    "The Julius Graph Engine offers a convenient macro `RuleDSL.@datom` for writing new datoms, such\n",
    "that the same weighted sum datom can be implemented more compactly. The\n",
    "`RuleDSL.@datom` macro translates the code below to a code block similar to the `WSumDF`\n",
    "implementation above. The two versions are equivalent to each other in functionality.\n",
    "Besides making the code more compact and easier to read and write, `RuleDSL.@datom` is also\n",
    "future proof, in that the macro would automatically generate conversion code in case of\n",
    "future Julius API changes. Therefore, it is strongly recommended to use the `RuleDSL.@datom`\n",
    "macro to declare new `Datom` types."
   ],
   "metadata": {}
  },
  {
   "outputs": [],
   "cell_type": "code",
   "source": [
    "# `WSumDF2` is the name of `Datom`'s type\n",
    "RuleDSL.@datom WSumDF2 begin\n",
    "    weights::Vector{Float64} # the member of WSumDF2\n",
    "\n",
    "    function fwddata!(dfs::DataFrame...) # self::WSumDF2 is automatically inserted as the first argument\n",
    "        sum = zeros(nrow(dfs[1]))\n",
    "        for (w, df) in zip(weights, dfs) # here weights is translated to self.weights, accessing the member\n",
    "            sum .+= w .* df[!, 1]\n",
    "        end\n",
    "        return [DataFrame(; wsum=sum)] # return a vector\n",
    "    end\n",
    "end\n",
    "\n",
    "wsumd2 = WSumDF2(ws)\n",
    "ysd2 = RuleDSL.fwddata!(wsumd2, dfs...)\n",
    "\n",
    "# Horizontally concatenate data frames for comparison\n",
    "hcat(ysd..., ysd2...; makeunique=true)"
   ],
   "metadata": {},
   "execution_count": null
  },
  {
   "cell_type": "markdown",
   "source": [
    "We also define another `Datom` type `RandDF` that returns uniform random numbers in\n",
    "a `Dataframe` for later use. The `meanv` parameter specifies the mean of the uniform\n",
    "random numbers."
   ],
   "metadata": {}
  },
  {
   "outputs": [],
   "cell_type": "code",
   "source": [
    "RuleDSL.@datom RandDF begin\n",
    "    n::Int\n",
    "    meanv::Float64\n",
    "\n",
    "    function fwddata!()\n",
    "        return [DataFrame(v=(rand(n) .- 0.5 .+ meanv))] # create a random vector\n",
    "    end\n",
    "end"
   ],
   "metadata": {},
   "execution_count": null
  },
  {
   "cell_type": "markdown",
   "source": [
    "## 2. Rules\n",
    "\n",
    "The `Atom` and its subtype `Datom` are generic abstractions for atomic numerical and data\n",
    "processing algorithms. However, just having atoms is not enough to build a working system or\n",
    "application, we still need to connect these atoms in a meaningful way. The RuleDSL is a\n",
    "high level domain specific language (DSL) designed exactly for\n",
    "that purpose. The RuleDSL specifies precisely how atoms should be connected to one another to\n",
    "form a computation DAG (directed acyclic graph) for the entire system.\n",
    "\n",
    "The RuleDSL is a graph programming language, and has a very limited syntax only for creating\n",
    "DAGs. It doesn't support most constructs in conventional programming languages, such as\n",
    "variables, functions, branches, loops or inheritance. The RuleDSL only contains declarations\n",
    "of discrete rules, so it is much easier to learn and use. The `Atom` is an interface to\n",
    "traditional programming languages and libraries. The\n",
    "combination of Rules and Atoms are extremely powerful and expressive, and they offer the best\n",
    "of traditional and graph programming. Together they can build systems of any\n",
    "scale and complexity with minimal amount of code.\n",
    "\n",
    "### 2.1 RuleDSL Syntax\n",
    "\n",
    "We use a Fibonacci sequence as an example to describe the RuleDSL syntax. The following is a\n",
    "Fibonacci like sequence using the `WSumDF` datom we just defined. This example is different\n",
    "from the classic Fibonacci sequence in that its two initial terms are random vectors instead\n",
    "of scalars 0 and 1; thus the recursive summation is applied to random vectors instead of\n",
    "scalars."
   ],
   "metadata": {}
  },
  {
   "outputs": [],
   "cell_type": "code",
   "source": [
    "RuleDSL.@addrules seq begin\n",
    "    fib(n::Int) = RuleDSL.Alias(fib(n, Val(n <= 1))) # binds the 2nd parameter for convenience, Alias is an atom that passes the outputs of other rules\n",
    "\n",
    "    fib(f::Float64) = RuleDSL.Alias(fib(Int(floor(f)))) # adapting rule for a floating point parameter\n",
    "\n",
    "    fib(n::Int, isend::Val{false}) = begin # defines the recursion of Fibonacci sequence\n",
    "        WSumDF[[1.0, 1.0]](fib(n - 1, Val(n <= 2)), fib(n - 2, Val(n <= 3)))\n",
    "    end\n",
    "\n",
    "    fib(n::Int, isend::Val{true}) = RandDF[10, Float64(n)]() # using the RandDF atom defined earlier, random vector of length 10.\n",
    "end"
   ],
   "metadata": {},
   "execution_count": null
  },
  {
   "cell_type": "markdown",
   "source": [
    "The `RuleDSL.@addrules` is a macro provided by the Julius Graph Engine for writing rules using\n",
    "the Rules DSL. The first argument `seq` is a user defined namespace to help organize related\n",
    "rules, followed by a list of discrete rules between the `begin` and `end`. There are four\n",
    "rules defined in the above declarations, the basic syntax of individual rules are:\n",
    "\n",
    "```julia\n",
    "rulename(arg1::Type1, arg2::Type2, ...) = AtomName[a1, a2, a3...](deprule1(args1...), deprule2(args2...), ...)\n",
    "```\n",
    "\n",
    "For example, in the rule:\n",
    "```julia\n",
    "fib(n::Int, isend::Val{false}) = WSumDF[[1.0, 1.0]](fib(n - 1, Val(n <= 2)), fib(n - 2, Val(n <= 3)))\n",
    "```\n",
    "\n",
    "* `fib` is the rule name, the full name of a rule includes its namespace, in this case it\n",
    "    is `seq.fib`\n",
    "* `n` and `isend` are two parameters to this rule, with type `Int, Val{false}`, all rule\n",
    "  parameters must have corresponding types in the rule declarations. The `Val{false}` is a\n",
    "  Julia templatized type that enables value based pattern matching (matching the value\n",
    "  `false` in this case).\n",
    "* `WSumDF` is the atom name which was defined earlier, the outer square bracket encloses\n",
    "  the parameter to the atom's constructor\n",
    "* `[1.; 1.]` in the square bracket is the parameter to the Datom `WSumDF`'s constructor,\n",
    "  i.e., it binds to the weights parameter. The `WSumDF[[1.; 1.]]` in the rule declaration is\n",
    "  directly translated to a constructor call of `WSumDF([1.; 1.])` to create the `WSumDF`\n",
    "  object at run time.\n",
    "* the `fib(n-1, Val(n<=2)), fib(n-2, Val(n<=3))` inside the parenthesis is a list of\n",
    "  dependent rules, each of which must map to existing rules, so that the Graph Engine can recursively\n",
    "  expand the rules at run time to create a complete computational graph. A rule can refer to\n",
    "  other rules (including itself) as dependencies. In this example, it refers to the same rule\n",
    "  as dependency to define the recursive sum of the Fibonacci sequence.\n",
    "\n",
    "Besides the Datom `WSumDF` we have just defined, these `seq.fib` rules also uses the Atoms\n",
    "defined in the `GraphEngine.RuleDSL` package, such as `RuleDSL.Alias`. The Julius Graph Engine\n",
    "comes with a rich set of pre-built Atoms that can be used by referring to their full Atom\n",
    "names. The atom `RuleDSL.Alias` is a special atom that simply passes the results of the\n",
    "dependent rules; it creates an additional rule name to improve readability. The Alias atom is\n",
    "often used for binding certain rule parameters to concrete values, as shown in the first\n",
    "`seq.fib` rule above.\n",
    "\n",
    "### 2.2 Polymorphism and Rule Matching\n",
    "\n",
    "The RulesDSL supports multiple dispatch with type and value based polymorphism. As a result\n",
    "it can express complex and dynamic data or analytical logic. Multiple rules can have the same\n",
    "name but with different argument types. For example we have four rules of `seq.fib` with\n",
    "different parameter types above. At run time, the rule with the most precise parameter type match\n",
    "is invoked to create a node in the graph, and this process continues recursively until all\n",
    "the dependent nodes are created in the graph. The final result of this rule matching and\n",
    "expansion process is a full computational graph (a DAG), which is ready for execution.\n",
    "\n",
    "The value based polymorphism is supported using Julia's templatized type, such as\n",
    "`Val{true}` or `Val{false}`. For example, in the first `seq.fib` rule above, if `n <= 1`,\n",
    "the isend parameter of the dependent rules become an instance of the type `Val{true}`, which\n",
    "would match to the last `seq.fib` rule governing the initial terms.\n",
    "\n",
    "To fully understand this process, let's go through the creation of a computational graph for\n",
    "`seq.fib(3.2)` step by step. We first create then run the computational graph for\n",
    "`seq.fib(3.2)`."
   ],
   "metadata": {}
  },
  {
   "outputs": [],
   "cell_type": "code",
   "source": [
    "# RuleDSL.@ref is a macro to create a concrete instance to a rule\n",
    "ref = RuleDSL.@ref seq.fib(3.2)\n",
    "\n",
    "# configuration object to pass common parameters to run time\n",
    "config = RuleDSL.Config()\n",
    "\n",
    "# run the computation according to the defined rules to create output in the Set\n",
    "gs = GraphVM.createlocalgraph(config, RuleDSL.GenericData());\n",
    "GraphVM.calcfwd!(gs, Set([ref]));"
   ],
   "metadata": {},
   "execution_count": null
  },
  {
   "cell_type": "markdown",
   "source": [
    "Julius Graph Engine provides an intuitive web UI to visualize and interact with the resulting\n",
    "computational graph, the following cell shows the resulting DAG and a link for the interactive\n",
    "web UI, where a user can access the entire calculation with all the intermediate results."
   ],
   "metadata": {}
  },
  {
   "outputs": [],
   "cell_type": "code",
   "source": [
    "# override label display on the node to show additional rule parameters\n",
    "# user can override the nodelabel function to customize the labels on the nodes\n",
    "import GraphEngine.RuleDSL: nodelabel\n",
    "function nodelabel(::AbstractGraphState, ref::NodeRef)\n",
    "    hdr = \"$(ref.ns).$(ref.name)\"\n",
    "    ps = join(simplerepr.(ref.params), \", \")\n",
    "\n",
    "    return \"$hdr($ps)\"\n",
    "end\n",
    "\n",
    "# start a local data server that feeds data to the web UI\n",
    "gss = Dict{String,RuleDSL.AbstractGraphState}()\n",
    "port = GraphVM.drawdataport()\n",
    "@async GraphVM.startresponder(gss, port)\n",
    "\n",
    "svg = GraphIO.postlocalgraph(gss, deepcopy(gs), port, true, key=\"fib\");\n",
    "display(\"image/svg+xml\", svg)"
   ],
   "metadata": {},
   "execution_count": null
  },
  {
   "cell_type": "markdown",
   "source": [
    "In this example, the steps to create the entire computation DAG includes:\n",
    "\n",
    "1. The best matching rule for `seq.fib(3.2)` is\n",
    "   `fib(f::Float64)=RuleDSL.Alias(fib(Int(floor(f))))`, which is aliased to `seq.fib(3)`\n",
    "   because the parameter `Int(floor(f))` in the dependent rule evaluates to 3.\n",
    "2. The best matching rule for `seq.fib(3)` is `fib(n::Int)=RuleDSL.Alias(fib(n,\n",
    "   Val{n<=1}()))`, whose dependent rule is `seq.fib(3, Val{false}())` where `Val(false)` is\n",
    "   an instance of templatized type `Val{false}`.\n",
    "3. The best matching rule for `seq.fib(3, Val(false))` is  `fib(n::Int,\n",
    "   isend::Val{false})=WSumDF[[1.; 1.]](fib(n-1, Val(n<=2)), fib(n-2, Val(n<=3)))`, with two\n",
    "   dependent rules: `seq.fib(2, Val(false))` and `seq.fib(1, Val(true))` .\n",
    "4. The best matching rule for `seq.fib(2, Val(false))` is again  `fib(n::Int,\n",
    "   isend::Val{false})=WSumDF[[1.; 1.]](fib(n-1, Val(n<=2)), fib(n-2, Val(n<=3))`, with two\n",
    "   dependent rules `seq.fib(1, Val(true))`  and `seq.fib(0, Val(true))`\n",
    "5. The best matching rule for `seq.fib(1, Val(true))` and `seq.fib(0, Val(true))` is\n",
    "   `fib(n::Int, isend::Val{true})=RandDF[10, Float64(n)]()`, which do\n",
    "   does not have any further dependencies. Now the graph expansion/creation is complete."
   ],
   "metadata": {}
  },
  {
   "cell_type": "markdown",
   "source": [
    "From this expansion process, the nodes created in the graph are essentially rules binded\n",
    "with concrete rule parameters. Nodes in the graph\n",
    "are represented by a `ReleDSL.NodeRef` type, which is nothing but a reference to the\n",
    "underlying rule and a list of its rule parameters. The nodes are guaranteed to be\n",
    "unique in a graph, i.e., there can't be multiple nodes with identical underlying rule and\n",
    "parameters in a graph. The hash value of `RuleDSL.NodeRef` object\n",
    "is often used as a unique identifier for nodes in the graph. Therefore, the\n",
    "relationship between rules, nodes and their hash are:\n",
    "\n",
    "rule in RuleDSL $ \\xrightarrow{\\text{bind to concrete rule parameters}} $\n",
    "node in graph as `RuleDSL.NodeRef` $ \\xrightarrow{\\text{hash}} $ unique node ID\n",
    "\n",
    "All the intermediate results of executing a computational DAG are held in a `gs` object,\n",
    "which is of type `GraphVM.GraphState`. The result of every node can be retrieved using the\n",
    "`getdata` method with the hash value of the corresponding `RuleDSL.NodeRef` object.\n",
    "\n",
    "The `RuleDSL.@ref` is a convenient macro for creating `RuleDSL.NodeRef` from a rule. The\n",
    "following cells show how two `RuleDSL.NodeRef` objects can be created from the same rule but\n",
    "with different parameters thus having different hash IDs. Both of their values can be\n",
    "retrieved by `getdata`."
   ],
   "metadata": {}
  },
  {
   "outputs": [],
   "cell_type": "code",
   "source": [
    "fib2 = RuleDSL.@ref seq.fib(2, Val(false))\n",
    "fib3 = RuleDSL.@ref seq.fib(3, Val(false))\n",
    "\n",
    "println(typeof(fib2) => hash(fib2))\n",
    "println(typeof(fib3) => hash(fib3))\n",
    "\n",
    "v2 = RuleDSL.getdata(gs, hash(fib2))\n",
    "v3 = RuleDSL.getdata(gs, hash(fib3))\n",
    "\n",
    "hcat(v2..., v3...; makeunique=true)"
   ],
   "metadata": {},
   "execution_count": null
  },
  {
   "cell_type": "markdown",
   "source": [
    "### 2.3 Dynamic Dependency\n",
    "\n",
    "A rule's dependency can be dynamic, i.e., the number and type of dependencies can be\n",
    "different according to the rule's parameters. For example the following cell defines a sum\n",
    "of all the even terms in the Fibonacci sequence:"
   ],
   "metadata": {}
  },
  {
   "outputs": [],
   "cell_type": "code",
   "source": [
    "RuleDSL.@addrules seq begin\n",
    "    sumeven(n::Int) = begin\n",
    "        WSumDF[fill(1.0, length(0:2:n))](RuleDSL.@ref(fib(i) for i in 0:2:n)...)\n",
    "    end\n",
    "end"
   ],
   "metadata": {},
   "execution_count": null
  },
  {
   "cell_type": "markdown",
   "source": [
    "The `RuleDSL.@ref(fib(i) for i in 0:2:n)` above creates a vector of `RuleDSL.NodeRef`\n",
    "object from the list comprehension inside. The `...` is a special syntax in rule dependency\n",
    "that signals dynamic rule dependencies, it can follow any valid Julia expression or\n",
    "functions that returns an instance or a vector of RuleDSL.NodeRef."
   ],
   "metadata": {}
  },
  {
   "outputs": [],
   "cell_type": "code",
   "source": [
    "RuleDSL.@ref seq.fib(5)"
   ],
   "metadata": {},
   "execution_count": null
  },
  {
   "outputs": [],
   "cell_type": "code",
   "source": [
    "RuleDSL.@ref(seq.fib(i) for i in 0:2:5)"
   ],
   "metadata": {},
   "execution_count": null
  },
  {
   "cell_type": "markdown",
   "source": [
    "The results of the dynamic dependency are shown in the graph below."
   ],
   "metadata": {}
  },
  {
   "outputs": [],
   "cell_type": "code",
   "source": [
    "# create a concrete instance to a rule\n",
    "sumeven = RuleDSL.@ref seq.sumeven(5)\n",
    "\n",
    "# run the computation according to the defined rules to create the desired output\n",
    "gs = GraphVM.createlocalgraph(config, RuleDSL.GenericData());\n",
    "GraphVM.calcfwd!(gs, Set([sumeven])); # we want to compute sumeven\n",
    "\n",
    "svg = GraphIO.postlocalgraph(gss, gs, port, true; key=\"even\");\n",
    "display(\"image/svg+xml\", svg)"
   ],
   "metadata": {},
   "execution_count": null
  },
  {
   "cell_type": "markdown",
   "source": [
    "### 2.4 Multi-line Rule\n",
    "\n",
    "So far, all rules we have shown are single line declarations. Sometimes it is convenient to\n",
    "run simple calculations or data transformations when declaring the rule.  Multi-line declarations\n",
    "is allowed by wrapping them up within `begin ... end` , as shown in the following example of an\n",
    "equivalent declaration of rule `seq.sumeven(n::Int)`. The rule can be easier to read\n",
    "using the local variables `dep, ws`:"
   ],
   "metadata": {}
  },
  {
   "outputs": [],
   "cell_type": "code",
   "source": [
    "RuleDSL.@addrules seq begin\n",
    "    sumeven2(n::Int) = begin\n",
    "        deps = RuleDSL.@ref(fib(i) for i in 0:2:n)\n",
    "        ws = fill(1.0, length(deps))\n",
    "        WSumDF[ws](deps...)\n",
    "    end\n",
    "end"
   ],
   "metadata": {},
   "execution_count": null
  },
  {
   "cell_type": "markdown",
   "source": [
    "## 3. Runtime and GraphData\n",
    "\n",
    "The combination of Rules and Atoms are extremely powerful and expressive. They can build any data\n",
    "and analytical pipeline as a directed acyclic graph (DAG) regardless of its complexity,\n",
    "with minimal coding in the RuleDSL. However, a system needs additional runtime\n",
    "configurations to function properly. Runtime configuration is an important aspect of\n",
    "system building, which is the topic of this section.\n",
    "\n",
    "Runtime configuration usually includes the following attributes:\n",
    "* Distribution: whether a system is running on a local computer or a distributed computing\n",
    "  environment\n",
    "* Caching: should the intermediate results being cached, and how/where it is cached\n",
    "* Adjoint Algorithmic Differentiation (AAD): whether the system execution includes AAD\n",
    "* Batch or Streaming: whether the system is running once in batch mode, or running in live\n",
    "  mode with continuous streaming data\n",
    "\n",
    "In a traditional development environment, separate and duplicated codebases are created in\n",
    "order to support different runtimes. For example, it is common for a bank to have separate\n",
    "and dedicated systems for each combination of (runtime, applications), such as an end of day\n",
    "batch system for Macro trading, a live intraday system for Equity e-trading, a test/UAD\n",
    "environment for XVA, etc. These specialized and dedicated systems often have different\n",
    "software, hardware and configurations. As a result, the number of these specialized systems\n",
    "can quickly multiply and drive up the overall complexity and support cost, while at\n",
    "the same time hurt the firm's overall consistency and reliability.\n",
    "\n",
    "The Julius Graph Engine provides a number of common runtime configurations out of the box.\n",
    "Different runtime environments can be created on-demand from a common set of Rules and Atoms\n",
    "that define the business logic. This removes the need for duplicated implementation of runtime\n",
    "configurations for individual systems, leading to a significant reduction in support cost and\n",
    "system complexity.\n",
    "\n",
    "The Julius Runtimes are implemented as different `GraphData` types. In the previous sections,\n",
    "we have already the `GenericData` in action, which is a derived type of `GraphData`. The\n",
    "following table shows some of the most common `GraphData` configurations in Julius:\n",
    "\n",
    "| GraphData Type        | Caching | Batch/Stream | support AAD | supported Atom type | Distribution |\n",
    "|:---------------------:|:-------:|:------------:|:-----------:|:-------------------:| :---: |\n",
    "| `RuleDSL.GenericData` | yes     | batch        | no          | any                 | yes |\n",
    "| `RuleDSL.NumericalData` | yes   | batch        | yes         | `Quantom` only      | yes |\n",
    "| `RuleDSL.StreamData`  | no      | stream       | no          | any                 | yes |\n",
    "\n",
    "Any `GraphData` can be used in either local or distributed mode. We only work with a local\n",
    "runtime in this notebook, but subsequent tutorials will show the distributed setup. The\n",
    "`NumericalData` is a `GraphData` specialized for numerical computations with AAD, which we\n",
    "will cover in another tutorial.\n",
    "\n",
    "Next, we will show how streaming use cases can be easily created using the `StreamData`.\n",
    "\n",
    "### 3.1 Streaming\n",
    "\n",
    "Streaming is a common runtime use case, e.g., for live intraday pricing and risk of a trading\n",
    "desk. With the `RuleDSL.StreamData` runtime, Julius can turn any computational\n",
    "graph into a streaming system with a few lines of code changes.\n",
    "\n",
    "In the following few cells, we take the Fibonacci sequence as defined above, which operates\n",
    "in the batch mode, and turn it into a streaming processing. Its initial inputs, the `fib(0)`\n",
    " and `fib(1)` terms, become the streaming input of random vectors.\n",
    "\n",
    "To show the effects of streaming, we create a new `Datom` that computes the running average of\n",
    "all the streamed input Dataframes."
   ],
   "metadata": {}
  },
  {
   "outputs": [],
   "cell_type": "code",
   "source": [
    "# computes the running average of all the value being streamed\n",
    "RuleDSL.@datom StreamAverage begin\n",
    "    sum::DataFrame = DataFrame()\n",
    "    cnt::Vector = [0]\n",
    "\n",
    "    function fwddata!(x::DataFrame)\n",
    "        if cnt[1] == 0\n",
    "            append!(sum, x)\n",
    "        else\n",
    "            sum .+= x\n",
    "        end\n",
    "\n",
    "        cnt[1] += 1\n",
    "        [ sum ./ cnt[1] ]\n",
    "    end\n",
    "end"
   ],
   "metadata": {},
   "execution_count": null
  },
  {
   "cell_type": "markdown",
   "source": [
    "Then we define a generic rule for computing stream average from any node. One of the most\n",
    "powerful features of Julius Rules DSL is the high order rule, which is a rule declaration\n",
    "that takes a `RuleDSL.NodeRef` object as parameter.  A high order rule can declare a generic\n",
    "pattern that is applicable to any node in a graph. We will cover high order rules in\n",
    "more detail in a later map/reduce tutorial.\n",
    "\n",
    "In the following high order rule for stream average, the `...` operator in the dependency\n",
    "indicates dynamic dependency, which is just the input node as defined by the `NodeRef`\n",
    "parameter. The `seq.streamaverage` is therefore a generic operation that can be applied to\n",
    "any other node as defined in its argument `ref`."
   ],
   "metadata": {}
  },
  {
   "outputs": [],
   "cell_type": "code",
   "source": [
    "RuleDSL.@addrules seq begin\n",
    "    streamaverage(ref::RuleDSL.NodeRef) = StreamAverage(ref...)\n",
    "end\n",
    "\n",
    "# sources of streaming inputs\n",
    "srcs = [\n",
    "    RuleDSL.@ref(seq.fib(0, Val{true}())), RuleDSL.@ref(seq.fib(1, Val{true}()))\n",
    "]\n",
    "sd = RuleDSL.StreamData(Set(hash.(srcs)), 1) # create StreamData with queue buffer length of 1\n",
    "\n",
    "ref = RuleDSL.@ref seq.fib(5)\n",
    "savg = RuleDSL.@ref seq.streamaverage(ref)\n",
    "\n",
    "gs2 = GraphVM.createlocalgraph(config, sd) # create a graph using StreamData\n",
    "GraphVM.calcfwd!(gs2, Set{NodeRef}(savg)); # set up the pipeline of streaming"
   ],
   "metadata": {},
   "execution_count": null
  },
  {
   "cell_type": "markdown",
   "source": [
    "The calcfwd! call above builds up streaming pipelines between nodes. In streaming mode, the\n",
    "connection between nodes in the graph are message queues, where each node runs asynchronously\n",
    "to process the message from the input queue, and then puts the results into the output queue.\n",
    "\n",
    "The following cell streams 20,000 different initial inputs, which are randomly drawn by the\n",
    "datom `RandDF`. Since the final output's atom is StreamAverage, which computes the running\n",
    "average of all the streamed data, the net result is essentially to calculate the Fibonnaci\n",
    "sequence using a Monte Carlo simulation of 20,000 paths, and the results are all close to 5,\n",
    "which is the correct value of the 5th term of the classic Fibonacci sequence.\n",
    "\n",
    "Unlike the mini-batch streaming processing in Spark, the streaming implementation in Julius\n",
    "is fully pipelined, where different nodes are processing different streaming inputs\n",
    "concurrently at any given time. As a result, Julius streaming is extremely fast, achieving\n",
    "more than 10,000 messages per second."
   ],
   "metadata": {}
  },
  {
   "outputs": [],
   "cell_type": "code",
   "source": [
    "@time RuleDSL.pushpullcalc!(gs2, 10000) # stream 10,000 messages, this call can be made multiple times to stream more data\n",
    "@time RuleDSL.pushpullcalc!(gs2, 10000)\n",
    "avg = RuleDSL.getdata(gs2, hash(savg))[1] # [1] is because the output is a vector of 1"
   ],
   "metadata": {},
   "execution_count": null
  },
  {
   "cell_type": "markdown",
   "source": [
    "Once we are done with streaming, we can tear down the streaming pipeline by calling\n",
    "`stopstream!` on `StreamData` to reclaim the resources. Once `stopstream!` is called, it\n",
    "will no longer accept any more incoming streaming data."
   ],
   "metadata": {}
  },
  {
   "outputs": [],
   "cell_type": "code",
   "source": [
    "RuleDSL.stopstream!(sd);"
   ],
   "metadata": {},
   "execution_count": null
  },
  {
   "outputs": [],
   "cell_type": "code",
   "source": [
    "GraphVM.servedata(gss, gs2, port; key=\"stream\");"
   ],
   "metadata": {},
   "execution_count": null
  },
  {
   "cell_type": "markdown",
   "source": [
    "## 4. Exercise\n",
    "\n",
    "Thanks for your attention! Now that you have learned the basics of the **Julius Graph Engine**,\n",
    "it is time to get your hands dirty and write your own rules and atoms! Here is an suggested\n",
    "exercise:\n",
    "\n",
    "Modify the streaming use case above, to also report the calculation of Monte Carlo error,\n",
    "which is the standard deviation of the samples divided by the square root of the number of\n",
    "samples. You can take advantage of the following relationship $\\sigma^2(x)=E[x^2] - E^2[x]$\n",
    "by tracking the average of squares. Then the MC error is $\\frac{\\sigma(x)}{\\sqrt{n}}$ where\n",
    "$n$ is the number of samples streamed.\n",
    "\n",
    "There can be different approaches for doing this:\n",
    "1. create a new Datom and corresponding rule, similar to `StreamAverage` and\n",
    "   `seq.streamaverage`, that computes the running mean and MC error, and returns them as two\n",
    "   DataFrames in the output vector, or two columns in the same DataFrame.\n",
    "2. create new Datoms for arithmetic operations like square, subtraction and sqrt on type\n",
    "   DataFrame, then compute the MC error by writing new rules that connect these new datoms.\n",
    "   You can consider writing a generic high order rule that works for any node and any Julia\n",
    "   function. A rule can take a Julia function as parameter!\n",
    "\n",
    "The first approach is quick and fast, while the second approach is more generic and\n",
    "reusable, with additional benefits of being able to see the intermediate results."
   ],
   "metadata": {}
  },
  {
   "cell_type": "markdown",
   "source": [
    "---\n",
    "\n",
    "*This notebook was generated using [Literate.jl](https://github.com/fredrikekre/Literate.jl).*"
   ],
   "metadata": {}
  }
 ],
 "nbformat_minor": 3,
 "metadata": {
  "language_info": {
   "file_extension": ".jl",
   "mimetype": "application/julia",
   "name": "julia",
   "version": "1.6.3"
  },
  "kernelspec": {
   "name": "julia-1.6",
   "display_name": "Julia 1.6.3",
   "language": "julia"
  }
 },
 "nbformat": 4
}
