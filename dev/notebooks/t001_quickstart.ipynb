{
 "cells": [
  {
   "cell_type": "markdown",
   "source": [
    "# Tutorial 1: Quick Start"
   ],
   "metadata": {}
  },
  {
   "cell_type": "markdown",
   "source": [
    "## How to use this tutorial\n",
    "  * Select \"run all cells\" on this notebook from the Run menu in Jupyter notebook or Jupyter\n",
    "  lab. This step will produce intermediate data output and charts.\n",
    "  * Some cells print out a url, which you can click on and bring up an interactive web UI to\n",
    "    visualize the graph data.\n",
    "  * In the unlikely event that the notebook becomes irresponsive, you can try \"Restart\n",
    "    Kernel\" from the Kernel menu, then run individual cells one by one using `Shift+Enter`.\n",
    "  * Some tutorials use local clusters consisting of multiple processes to mimic the effects\n",
    "  of graph distribution over a remote clusters. By default, these local clusters\n",
    "  automatically stop after idling for 15min to conserve CPU and memory resources. You will\n",
    "  need to rerun the entire notebook if your local cluster stopped due to inactivity.\n",
    "  * Additional resources (video demos & blogs) are available at http://juliustech.co\n",
    "  * To report any issues, get help or request features, please raise an issue at:\n",
    "   https://github.com/JuliusTechCo/JuliusGraph/issues"
   ],
   "metadata": {}
  },
  {
   "cell_type": "markdown",
   "source": [
    "## 0. Introduction\n",
    "\n",
    "Julius is an auto-scaling, low-code, and visual graph computing solution, that can\n",
    "build sophisticated data and analytical pipelines with very little code. This tutorial is a\n",
    "quick start guide on the basic concepts and programming API of Julius Graph Engine.\n",
    "You can find introductory videos and blogs on graph computing at http://juliustech.co if\n",
    "you are new to the subject.\n",
    "\n",
    "Julius Graph Engine is implemented in [Julia](https://julialang.org/). Prior knowledge in\n",
    "Julia is not required to follow this tutorial, as developer mainly interact with Julius\n",
    "GraphEngine through a domain specific language (DSL): the Julius RulesDSL, which only uses\n",
    "a very limited set of Julia syntax.  If you have programming expperiences in Python or\n",
    "Matlab, you can follow this guide without much difficulties. We will highlight and explain\n",
    "some key Julia specific syntax in this tutorial for Python/Matlab developers.\n",
    "\n",
    "This tutorial is organized around three key concept in Julius Graph Engine: Atoms, Rules and\n",
    "Runtime.\n",
    "\n",
    "## 1. Atoms\n",
    "\n",
    "`Atom` is an abstract Julia type, it is the most fundamental building block of Julius Graph\n",
    "Engine, it stands for atomic operations. The name `Atom` is chosen because they are the\n",
    "minimal unit of distribution and caching in Julius Graph Engine, atoms cannot be\n",
    "broken apart further for those purposes. `Atom` interface enables Julius Graph Engine\n",
    "to access functionalities implemented in existing software libraries. `Atom` can be\n",
    "implemented in all major programming languages, such as Python, C/C++, Java, .Net, R\n",
    "and Julia etc. Existing functions written in these languages can be easily wrapped up as\n",
    "an atom and be used in Julius Graph.\n",
    "\n",
    "There are several different sub types of Atoms for different use cases. We first introduce\n",
    "`Datom`, which is the most generic `Atom` type that encapsulates any numerical or data\n",
    "operation. The `Datom` interface only has a single method, the ```...``` syntax in\n",
    "the function signature is a Julia specific syntax for catching varying number of arguments.\n",
    "\n",
    "```julia\n",
    "fwddata!(self::Datom, xs...)\n",
    "```\n",
    "\n",
    "The `fwddata!` method can take any number of input data object in `xs` and must return a\n",
    "vector of output objects. The return type of vector is chosen to be explicit that the\n",
    "output could contain multiple objects.\n",
    "\n",
    "The follow code snippets creates a `Datom` that computes the weighted sum of an input\n",
    "vector of `DataFrame` objects. `DataFrame` is the popular choice for representing tabular\n",
    "data in data science applications. Julia's `DataFrame` provides similar\n",
    "functionalities as the Python's pandas Dataframe. A developer is free to choose other\n",
    "input/output types for writing their own `Datoms`, the `xs` in the `fwddata!` can be\n",
    "any data type.\n",
    "\n",
    "The following cells contain a complete implementation of the weighted sum `Datom`."
   ],
   "metadata": {}
  },
  {
   "outputs": [],
   "cell_type": "code",
   "source": [
    "using DataFrames, Base.CoreLogging\n",
    "using GraphEngine: RuleDSL, GraphVM # RuleDSL package has all the APIs and type definitions of Julius Graph Engine\n",
    "using GraphIO\n",
    "\n",
    "# turn off information logging output, only show errors and warning\n",
    "disable_logging(CoreLogging.Info)\n",
    "\n",
    "# start a data server for the web UI\n",
    "gss = Dict{String,RuleDSL.AbstractGraphState}()\n",
    "port = GraphVM.drawdataport()\n",
    "@async GraphVM.startresponder(gss, port)"
   ],
   "metadata": {},
   "execution_count": null
  },
  {
   "outputs": [],
   "cell_type": "code",
   "source": [
    "# this method needs to be extended when declaring new datoms\n",
    "import GraphEngine.RuleDSL: fwddata!\n",
    "\n",
    "struct WSumDF <: RuleDSL.Datom\n",
    "    weights::Vector{Float64}\n",
    "end\n",
    "\n",
    "function fwddata!(self::WSumDF, dfs::DataFrame...)\n",
    "    @assert length(dfs) == length(self.weights) && length(dfs) > 0 \"invalid input size\"\n",
    "    sum = self.weights[1] .* dfs[1]\n",
    "\n",
    "    for i=2:length(self.weights)\n",
    "        sum .+= (self.weights[i] .* dfs[i])\n",
    "    end\n",
    "\n",
    "    return [sum] # must return a vector\n",
    "end"
   ],
   "metadata": {},
   "execution_count": null
  },
  {
   "cell_type": "markdown",
   "source": [
    "Next, we show how to use `Datom` to compute the weighted sum of `DataFrame`s."
   ],
   "metadata": {}
  },
  {
   "outputs": [],
   "cell_type": "code",
   "source": [
    "using Random\n",
    "\n",
    "ws = [1.0; 2.0; 3.0]\n",
    "xlen = 10\n",
    "xs = [rand(xlen), rand(xlen), rand(xlen)]\n",
    "\n",
    "wsumd = WSumDF(ws)\n",
    "dfs = [DataFrame(v=x) for x in xs] # create 3 data frames\n",
    "ysd = RuleDSL.fwddata!(wsumd, dfs...)\n",
    "first(ysd)"
   ],
   "metadata": {},
   "execution_count": null
  },
  {
   "cell_type": "markdown",
   "source": [
    "Julius Graph Engine offers a convenient macro `RuleDSL.@datom` for writing new datoms, the\n",
    "same weighed sum datom can be implemented more compactly as below. The `RuleDSL.@datom`\n",
    "macro translate the code below to a code block similar to the `WSumDF` implementation above.\n",
    "The two versions are equivalent to each other in functionality. Besides making the code more\n",
    "compact and easier to read and write, `RuleDSL.@datom` is also future proof, in that the macro\n",
    "would automatically generate conversion code in case of future Julius API changes. Therefore,\n",
    "it is strongly recommended to use the `RuleDSL.@datom` macro to declare new `Datom`\n",
    "types."
   ],
   "metadata": {}
  },
  {
   "outputs": [],
   "cell_type": "code",
   "source": [
    "# `WSumDF2` is the name of `Datom`'s type\n",
    "RuleDSL.@datom WSumDF2 begin\n",
    "    weights::Vector{Float64} # the member of WSumDF2\n",
    "\n",
    "    function fwddata!(dfs::DataFrame...) # self::WSumDF2 is automatically inserted as the first argument\n",
    "        sum = zeros(nrow(dfs[1]))\n",
    "        for (w, df) in zip(weights, dfs) # here weights is translated to self.weights, accessing the member\n",
    "            sum .+= w .* df[!, 1]\n",
    "        end\n",
    "        return [DataFrame(; wsum=sum)] # return a vector\n",
    "    end\n",
    "end\n",
    "\n",
    "wsumd2 = WSumDF2(ws)\n",
    "ysd2 = RuleDSL.fwddata!(wsumd2, dfs...)\n",
    "\n",
    "# Horizontally concatenate data frames for comparison\n",
    "hcat(ysd..., ysd2...; makeunique=true)"
   ],
   "metadata": {},
   "execution_count": null
  },
  {
   "cell_type": "markdown",
   "source": [
    "We also define another `Datom` type `RandDF` that returns uniform random numbers in\n",
    "a `Dataframe`, for later use. The `meanv` parameter specifies the mean of the uniform\n",
    "random numbers."
   ],
   "metadata": {}
  },
  {
   "outputs": [],
   "cell_type": "code",
   "source": [
    "RuleDSL.@datom RandDF begin\n",
    "    n::Int\n",
    "    meanv::Float64\n",
    "\n",
    "    function fwddata!()\n",
    "        return [DataFrame(v=(rand(n) .- .5 .+ meanv))] # create a random vector\n",
    "    end\n",
    "end"
   ],
   "metadata": {},
   "execution_count": null
  },
  {
   "cell_type": "markdown",
   "source": [
    "## 2. Rules\n",
    "\n",
    "The `Atom` and its subtype `Datom` are generic abstractions for atomic numerical and\n",
    "data processing algorithms. However, just having atoms is not enough to build a working\n",
    "system or application, we still need to connect these atoms in a meaningful way to create\n",
    "a system or application. The RuleDSL is a high level domain specific language (DSL) exactly\n",
    "designed for that purpose. RuleDSL specifiies precisely how atoms should be connected to\n",
    "one another to form a computation DAG (directed acyclic graph) for the entire system or\n",
    "application.\n",
    "\n",
    "The RuleDSL is a graph programming language, it has a very limited syntax for creating\n",
    "DAGs. It doesn't support most constructs in a conventional programming\n",
    "languages, such as variables, functions, branches or inheritance. RuleDSL only contains\n",
    "discreate declaration of rules, therefore it is much easier to learn and use than the\n",
    "full-fledged programming language. The `Atom' is an interface to traditional programming\n",
    "languages and libraries. The combination of Rules and Atoms are extremely powerful and\n",
    "expressive, they offers the best features from the traditional and graph programming.\n",
    "Together they can create systems of any scale and complexity with a minimal amount\n",
    "of code.\n",
    "\n",
    "### 2.1 RuleDSL Syntax\n",
    "\n",
    "We use Fibonacci sequence as an example to describe the RulesDSL syntax. The\n",
    "following is a Fibonacci like sequence using the `WSumDF` datom we just defined. This example\n",
    "is different from the classic Fibonacci sequence in that its two initial terms are random\n",
    "vectors intead of scalar 0 and 1; thus the recursive summation is applied to vectors\n",
    "instead of scalars."
   ],
   "metadata": {}
  },
  {
   "outputs": [],
   "cell_type": "code",
   "source": [
    "RuleDSL.@addrules seq begin\n",
    "    fib(n::Int) = RuleDSL.Alias(fib(n, Val(n <= 1))) # binds the 2nd parameter for convenience, Alias is an atom that passes the outputs of other rules,\n",
    "    fib(f::Float64) = RuleDSL.Alias(fib(Int(floor(f)))) # adapting rule for a floating point parameter\n",
    "    fib(n::Int, isend::Val{false}) = begin # defines the recursion of Fibonacci sequence\n",
    "        WSumDF[[1.0, 1.0]](fib(n - 1, Val(n <= 2)), fib(n - 2, Val(n <= 3)))\n",
    "    end\n",
    "    fib(n::Int, isend::Val{true}) = RandDF[10, Float64(n)]() # using the RandDF atom defined earlier, random vector of length 10.\n",
    "end"
   ],
   "metadata": {},
   "execution_count": null
  },
  {
   "cell_type": "markdown",
   "source": [
    "The `RuleDSL.@addrules` is a macro provided by Julius Graph Engine for writing rules using\n",
    "the Rules DSL. The first argument `seq` is a user defined namespace to help organize\n",
    "related rules, followed by a list of discrete rules between the `begin` and `end`. There\n",
    "are four rules defined in the above declarations, the basic syntax of individual rules are:\n",
    "\n",
    "```julia\n",
    "rulename(arg1::Type1, arg2::Type2, ...) = AtomName[a1, a2, a3...](deprule1(args1...), deprule2(args2...), ...)\n",
    "```\n",
    "\n",
    "For example, in the rule:\n",
    "```julia\n",
    "fib(n::Int, isend::Val{false}) = WSumDF[[1.0, 1.0]](fib(n - 1, Val(n <= 2)), fib(n - 2, Val(n <= 3)))\n",
    "```\n",
    "\n",
    "* `fib` is the rule name, the full name of a rule includes its namespace, in this\n",
    "case it is `seq.fib`\n",
    "* `n` and `isend` are two parameters to this rule, with type `Int, Val{false}`, all rule\n",
    "  parameter must have corresponding types in the rule declarations. The `Val{false}` is a\n",
    "  Julia templatized type that enables value based pattern matching (matching the value `false`\n",
    "  in this case).\n",
    "* `WSumDF` is the atom name, which was defined earlier, the outer square bracket encloses\n",
    "  the parameter to the atom's constructor\n",
    "* `[1.; 1.]` in the square bracket is the parameter to the Datom `WSumDF`'s constructor,\n",
    "  i.e., it is the weights parameter. The `WSumDF[[1.; 1.]]` in the rule declaration is\n",
    "  directly translated to a call of`WSumDF([1.; 1.])` to create the `WSumDF` object at run\n",
    "  time.\n",
    "* the `fib(n-1, Val(n<=2)), fib(n-2, Val(n<=3))` inside the parenthesis is a list of\n",
    "  dependent rules, they must map to existing rules, so that the Graph Engine can\n",
    "  recursively expand the rules at run time to create a complete computational graph. A rule\n",
    "  can refer to other rules (including itself) as dependencies. In this case, it defines\n",
    "  the recursive sum of Fibonacci sequence.\n",
    "\n",
    "Besides the Datom `WSumDF` we just defined, these `seq` rules also uses the Atoms\n",
    "defined in the `GraphEngine.RuleDSL` package, such as `RuleDSL.Alias`. Julius Graph Engine\n",
    "comes with a rich set of pre-built Atoms that can be used by referring to their fully\n",
    "qualified Atom names. The atom `RuleDSL.Alias` is a special atom that simply pass the\n",
    "results of the dependent rules, it creates an additional name to improve readability.\n",
    "Alias atom is often used to bind certain rule parameters to concrete values, as shown\n",
    "in the first `seq.fib` rule above.\n",
    "\n",
    "### 2.2 Polymorphism and Rule Matching\n",
    "\n",
    "Rules DSL supports multiple dispatch with type and value based polymorphism, as a\n",
    "result it can capture complex data or analytical logic. Multiple rules can have the same\n",
    "rule name with different argument types, for example we have four rules of `seq.fib`\n",
    "with different parameters above. At run time, the rule with the most precise match by type\n",
    "are invoked, this process continues recursively through rule dependencies until all the\n",
    "dependent rules are resolved. The final result of this rule matching and expansion process\n",
    "is a fully constructed computation graph (a DAG), which is ready to be\n",
    "executed.\n",
    "\n",
    "The value based polymorphism is supported using Julia's templatized type, such as\n",
    "`Val{true}` or `Val{false}`. For example, in the first `seq.fib` rule above, if `n <= 1`,\n",
    "the isend parameter of the dependent rules become an instance of the type `Val{true}`,\n",
    "which would match to the last `seq.fib` rule governing the initial terms.\n",
    "\n",
    "To fully understand this process, let's go through the creation of computational graph for\n",
    "`seq.fib(3.2)` step by step."
   ],
   "metadata": {}
  },
  {
   "outputs": [],
   "cell_type": "code",
   "source": [
    "# override label display on the node to show additional rule parameters\n",
    "import GraphEngine.RuleDSL: nodelabel\n",
    "function nodelabel(::AbstractGraphState, ref::NodeRef)\n",
    "    hdr = \"$(ref.ns).$(ref.name)\"\n",
    "    ps = join(simplerepr.(ref.params), \", \")\n",
    "\n",
    "    return \"$hdr($ps)\"\n",
    "end\n",
    "\n",
    "# create a concrete instance to a rule\n",
    "ref = RuleDSL.@ref seq.fib(3.2)\n",
    "# configuration object to pass common parameters to run time\n",
    "config = RuleDSL.Config()\n",
    "\n",
    "# run the computation according to the defined rules to create output in the Set\n",
    "gs = GraphVM.createlocalgraph(config, RuleDSL.GenericData());\n",
    "GraphVM.calcfwd!(gs, Set([ref]));\n",
    "\n",
    "svg = GraphIO.postlocalgraph(gss, gs, port);\n",
    "display(\"image/svg+xml\", svg)"
   ],
   "metadata": {},
   "execution_count": null
  },
  {
   "cell_type": "markdown",
   "source": [
    "In the above example, the steps to create the entire computation DAG includes:\n",
    "\n",
    "1. The best matching rule for `seq.fib(3.2)` is\n",
    "   `fib(f::Float64)=RuleDSL.Alias(fib(Int(floor(f))))`, which is aliased to `seq.fib(3)`\n",
    "   because the parameter `Int(floor(f))` in the depedent rule evaluates to 3.\n",
    "2. The best matching rule for `seq.fib(3)` is `fib(n::Int)=RuleDSL.Alias(fib(n,\n",
    "   Val{n<=1}()))`, whose dependent rule is `seq.fib(3, Val{false}())` where\n",
    "   `Val(false)` is an instance of templatized type `Val{false}`.\n",
    "3. The best matching rule for `seq.fib(3, Val(false))` is  `fib(n::Int,\n",
    "   isend::Val{false})=WSumDF[[1.; 1.]](fib(n-1, Val(n<=2)), fib(n-2, Val(n<=3)))`, with\n",
    "   2 dependent rules: `seq.fib(2, Val(false))` and `seq.fib(1, Val(true))` .\n",
    "4. The best matching rule for `seq.fib(2, Val(false))` is again  `fib(n::Int,\n",
    "   isend::Val{false})=WSumDF[[1.; 1.]](fib(n-1, Val(n<=2)), fib(n-2, Val(n<=3))`, with\n",
    "   two dependent rules `seq.fib(1, Val(true))`  and `seq.fib(0, Val(true))`\n",
    "5. The best matching rule for `seq.fib(1, Val(true))` and `seq.fib(0,\n",
    "   Val(true))` is `fib(n::Int, isend::Val{true})=RandDF[10, Float64(n)]()`, which is the initial\n",
    "   term of the Fibonacci sequence that does not have any further dependencies.\n",
    "   Now the graph exapnsion/creation is complete.\n",
    "\n",
    "The above cell's output contains a url to a web UI, where a user can visualize the\n",
    "entire calculation with all the intemediate results."
   ],
   "metadata": {}
  },
  {
   "cell_type": "markdown",
   "source": [
    "All the data are cached in the gs object, which is of type `GraphVM.GraphState`, which\n",
    "contains all the run time state of the DAG. Data can be\n",
    "retrieved using the `getdata` method, which takes the hash value of the `RuleDSL.NodeRef`\n",
    "object. The hash value of RuleDSL.NodeRef object is often used as a unique ID of the node.\n",
    "The relationship between rules, NodeRef, and unique id is the following:\n",
    "\n",
    "Rule declaration $ \\xrightarrow{\\text{bind rule parameters by RuleDSL.@ref}} $\n",
    "`RuleDSL.NodeRef` $ \\xrightarrow{\\text{hash}} $ Unique Node ID\n",
    "\n",
    "The `RuleDSL.@ref` is a convenient macro to create `RuleDSL.NodeRef` object, which\n",
    "represents fully parameterized rules. For example the following cells shows two\n",
    "`RuleDSL.NodeRef` objects can be created from the same rule but with different\n",
    "arguments thus they have different hash IDs. Both of their values can be retrieved by\n",
    "`getdata`."
   ],
   "metadata": {}
  },
  {
   "outputs": [],
   "cell_type": "code",
   "source": [
    "fib2 = RuleDSL.@ref seq.fib(2, Val{false}())\n",
    "fib3 = RuleDSL.@ref seq.fib(3, Val{false}())\n",
    "\n",
    "println(typeof(fib2) => hash(fib2))\n",
    "println(typeof(fib3) => hash(fib3))\n",
    "\n",
    "v2 = RuleDSL.getdata(gs, hash(fib2))\n",
    "v3 = RuleDSL.getdata(gs, hash(fib3))\n",
    "\n",
    "hcat(v2..., v3...; makeunique=true)"
   ],
   "metadata": {},
   "execution_count": null
  },
  {
   "cell_type": "markdown",
   "source": [
    "### 2.3 Dynamic Dependency\n",
    "\n",
    "A rule's dependency can by dynamic, i.e., the number and type of depenedencies can be\n",
    "different according to the rule's parameters. For example the following cell defines a sum\n",
    "of all the even number of terms in the Fibonacci sequence:"
   ],
   "metadata": {}
  },
  {
   "outputs": [],
   "cell_type": "code",
   "source": [
    "RuleDSL.@addrules seq begin\n",
    "    sumeven(n::Int) = begin\n",
    "        WSumDF[fill(1.0, length(0:2:n))](RuleDSL.@ref(fib(i) for i in 0:2:n)...)\n",
    "    end\n",
    "end"
   ],
   "metadata": {},
   "execution_count": null
  },
  {
   "cell_type": "markdown",
   "source": [
    "As shown below, the `RuleDSL.@ref(fib(i) for i in 0:2:n)` create a vector of RuleDSL.NodeRef\n",
    "object from the list comprehension inside. The `...` is a special syntax in rule dependency that\n",
    "signals dynamic rule dependencies, it can follow any valid Julia expression or functions that\n",
    "returns an instance or a vector of RuleDSL.NodeRef."
   ],
   "metadata": {}
  },
  {
   "outputs": [],
   "cell_type": "code",
   "source": [
    "RuleDSL.@ref seq.fib(5)"
   ],
   "metadata": {},
   "execution_count": null
  },
  {
   "outputs": [],
   "cell_type": "code",
   "source": [
    "RuleDSL.@ref(seq.fib(i) for i in 0:2:5)"
   ],
   "metadata": {},
   "execution_count": null
  },
  {
   "cell_type": "markdown",
   "source": [
    "The results of the dynamic dependency is shown below."
   ],
   "metadata": {}
  },
  {
   "outputs": [],
   "cell_type": "code",
   "source": [
    "# create a concrete instance to a rule\n",
    "sumeven = RuleDSL.@ref seq.sumeven(5)\n",
    "\n",
    "# run the computation according to the defined rules to create the desired output\n",
    "gs = GraphVM.createlocalgraph(config, RuleDSL.GenericData());\n",
    "GraphVM.calcfwd!(gs, Set([sumeven])); # we want to compute sumeven\n",
    "\n",
    "svg = GraphIO.postlocalgraph(gss, gs, port);\n",
    "display(\"image/svg+xml\", svg)"
   ],
   "metadata": {},
   "execution_count": null
  },
  {
   "cell_type": "markdown",
   "source": [
    "### 2.4 Multi-line Rule\n",
    "\n",
    "So far, all rules we have shown are single line declarations. Sometime it is convenient to\n",
    "run some simple calculations when declaring the rule, we can wrap up the declarations within\n",
    "`begin ... end` to allow multi-line declarations, for example the following is an equivalent\n",
    "declaration of rule `seq.sumeven(n::Int)`. By using the local variables `dep, ws`, the\n",
    "following multi-line declaration is easier to read."
   ],
   "metadata": {}
  },
  {
   "outputs": [],
   "cell_type": "code",
   "source": [
    "RuleDSL.@addrules seq begin\n",
    "    sumeven2(n::Int) = begin\n",
    "        deps = RuleDSL.@ref(fib(i) for i in 0:2:n)\n",
    "        ws = fill(1.0, length(deps))\n",
    "        WSumDF[ws](deps...)\n",
    "    end\n",
    "end"
   ],
   "metadata": {},
   "execution_count": null
  },
  {
   "cell_type": "markdown",
   "source": [
    "## 3. Runtime and GraphData\n",
    "\n",
    "The combination of Rules and Atoms are very powerful and expressive, they can build any data\n",
    "and analytical pipeline as a directed acyclic graph (DAG) regardless of its complexity,\n",
    "usually with very few lines of code in RuleDSL. However, a system needs additional run time\n",
    "configurations to function properly, even with all the business logic has been fully\n",
    "specified. Runtime configuration is an important aspect of a running\n",
    "system, which is the topic of this section.\n",
    "\n",
    "Runtime configuration usually include the following attributes:\n",
    "* Distribution: whether a system is running on a local computer or a distributed computing\n",
    "  environment\n",
    "* Caching: should the intermediate results being cached, and how/where it is cached\n",
    "* Adjoint Algorithmic Differentiation (AAD): whether the system execution includes AAD\n",
    "* Batch or Streaming: whether the system running once in a batch mode, or running in a live mode\n",
    "  with endless streaming data\n",
    "\n",
    "In a traditional development environment, separate and duplicated codebases are created\n",
    "in order to support different runtimes. For example, it is common in a bank to have\n",
    "separate and dedicated systems for each combination of (runtime, applications), such as end\n",
    "of day batch system for Macro trading, live intraday system for Equity e-trading, test/UAD\n",
    "environment for XVA etc. These specialized and dedicated systems do not share much common\n",
    "software, hardware or configuration. As a results, the number of these specialized system\n",
    "can quick multiple and drive up the overall complexity and support cost in a bank, and at\n",
    "the same time hurting its consistency and reliability.\n",
    "\n",
    "Julis GraphEngine provides a number of common runtime configurations out of box. Different\n",
    "runtime environment can be created on-demand from a common set of Rules and Atoms defining\n",
    "the business logic. This removes the needs for duplicated implementation of\n",
    "runtime configurations for individual sytems, leading to significant\n",
    "reduction in support cost and system complexity.\n",
    "\n",
    "Julius Runtime are implemented as different `GraphData` types. Each `GraphData` type\n",
    "implements a specific runtime configuration. In the previous sections, we already seen the\n",
    "`GenericData` in action, which is a derived type of `GraphData`. The following table\n",
    "shows some of the most common `GraphData` configurations in Julius:\n",
    "\n",
    "| GraphData Type        | Caching | Batch/Stream | support AAD | supported Atom type |\n",
    "|:---------------------:|:-------:|:------------:|:-----------:|:-------------------:|\n",
    "| `RuleDSL.GenericData` | yes     | batch        | no          | any                 |\n",
    "| `RuleDSL.NumericalData` | yes   | batch        | yes         | `Quantom` only      |\n",
    "| `RuleDSL.StreamData`  | no      | stream       | no          | any                 |\n",
    "\n",
    "Any `GraphData` can be used in either local or distributed mode, we only work with local\n",
    "runtime in this notebook, but subsequent tutorials will show the distributed setup.\n",
    "The `NumericalData` is a `GraphData` specialized for numerical computation with AAD,\n",
    "which we will cover in another tutorial.\n",
    "\n",
    "Next, we will show how streaming use cases can be easily created using the `StreamData`.\n",
    "\n",
    "### 3.1 Streaming\n",
    "\n",
    "Streaming is a common runtime use case, e.g., for live intraday pricing and risk\n",
    "during market open. With the `RuleDSL.StreamData` runtime, Julius can turn any batch system\n",
    "to a streaming system with few lines of code change.\n",
    "\n",
    "In the following few cells, we take the Fibnacci sequence as defined above, which operates\n",
    "in the batch mode, and turn it into a streaming processing. Its initial inputs, the `fib(0)`\n",
    " and `fib(1)` terms becomes the streaming input of random vectors.\n",
    "\n",
    "To show the effects of streaming, we creates a new Datom that averages all the streamed\n",
    "input values."
   ],
   "metadata": {}
  },
  {
   "cell_type": "markdown",
   "source": [
    "computes the running average of all the value being streamed"
   ],
   "metadata": {}
  },
  {
   "outputs": [],
   "cell_type": "code",
   "source": [
    "RuleDSL.@datom StreamAverage begin\n",
    "    sum::DataFrame = DataFrame()\n",
    "    cnt::Vector = [0]\n",
    "\n",
    "    function fwddata!(x::DataFrame)\n",
    "        if cnt[1] == 0\n",
    "            append!(sum, x)\n",
    "        else\n",
    "            sum .+= x\n",
    "        end\n",
    "\n",
    "        cnt[1] += 1\n",
    "        [ sum ./ cnt[1] ]\n",
    "    end\n",
    "end"
   ],
   "metadata": {},
   "execution_count": null
  },
  {
   "cell_type": "markdown",
   "source": [
    "Then we define a generic rule for computing stream average from any node. One of the\n",
    "most powerful feature of Julius Rules DSL, is the high order rule, which is a rule declaration\n",
    "that takes a `RuleDSL.NodeRef` object as parameter.  A high order rule can declare a generic\n",
    "pattern that is applicable to any other rules, for example map/reduce or Monte carlo simulation\n",
    "can be expressed as generic high order rules. We will cover high order rules in more detail\n",
    "in a following map/reduce tutorial.\n",
    "\n",
    "In the following high order rule for stream average, the `...` operator in the dependency\n",
    "indicates dynamic dependency, which is just the input rule as defined by the `NodeRef`\n",
    "parameter. The `seq.streamaverage` is therefore a generic operation that can be applied to\n",
    "any other rule as representd in its argument `ref`, it has a single dependency to the node\n",
    "specified by the ref."
   ],
   "metadata": {}
  },
  {
   "outputs": [],
   "cell_type": "code",
   "source": [
    "RuleDSL.@addrules seq begin\n",
    "    streamaverage(ref::RuleDSL.NodeRef) = StreamAverage(ref...)\n",
    "end\n",
    "\n",
    "# sources of streaming inputs\n",
    "srcs = [\n",
    "    RuleDSL.@ref(seq.fib(0, Val{true}())), RuleDSL.@ref(seq.fib(1, Val{true}()))\n",
    "]\n",
    "sd = RuleDSL.StreamData(Set(hash.(srcs)), 1) # create StreamData with que buffer length of 1\n",
    "\n",
    "ref = RuleDSL.@ref seq.fib(5)\n",
    "savg = RuleDSL.@ref seq.streamaverage(ref)\n",
    "\n",
    "gs2 = GraphVM.createlocalgraph(config, sd) # create a graph using StreamData\n",
    "GraphVM.calcfwd!(gs2, Set{NodeRef}(savg)); # set up the pipeline of streaming"
   ],
   "metadata": {},
   "execution_count": null
  },
  {
   "cell_type": "markdown",
   "source": [
    "The calcfwd! call above builts the pipeline between nodes for streaming, the connection\n",
    "between nodes in `StreamData` are message queues, and each nodes runs asynchronously to\n",
    "process the message from input the queue then put the results into the output que. The\n",
    "following cell streams 20,000 different initial inputs, which are randomly drawn by the\n",
    "datom `RandDF`. Since the final output's atom is StreamAverage, which computes the running\n",
    "average of all the streamed data, the net result is essentially to compute the Fibonnaci\n",
    "sequence using a Monte Carlo simulation of 20,000 paths, and the results are all close to 5,\n",
    "which is the correct value of the 5th term of the classic fibnacci sequence.\n",
    "\n",
    "Unlike the mini-batch streaming processing in Spark, the streaming implementation in\n",
    "Julius is fully pipelined where different nodes are processing different streaming inputs\n",
    "concurrently at any given time. As a result, Julius streaming is extremely fast, it\n",
    "achieved more than 10,000 messages per seconds."
   ],
   "metadata": {}
  },
  {
   "outputs": [],
   "cell_type": "code",
   "source": [
    "@time RuleDSL.pushpullcalc!(gs2, 10000) # stream 10,000 messages, this call can be made multiple times to stream more data\n",
    "@time RuleDSL.pushpullcalc!(gs2, 10000)\n",
    "avg = RuleDSL.getdata(gs2, hash(savg))[1] # [1] is because the output is a vector of 1"
   ],
   "metadata": {},
   "execution_count": null
  },
  {
   "cell_type": "markdown",
   "source": [
    "Once we are done with streaming, we can tear down the streaming pipeline by calling\n",
    "`stopstream!` on `StreamData` to reclaim the resources. Once `stopstream!` is called, we can\n",
    "no longer call the `pushpullcalc!`."
   ],
   "metadata": {}
  },
  {
   "outputs": [],
   "cell_type": "code",
   "source": [
    "RuleDSL.stopstream!(sd);"
   ],
   "metadata": {},
   "execution_count": null
  },
  {
   "outputs": [],
   "cell_type": "code",
   "source": [
    "GraphVM.servedata(gss, gs2, port; key=\"stream\");"
   ],
   "metadata": {},
   "execution_count": null
  },
  {
   "cell_type": "markdown",
   "source": [
    "## 4. Exercise\n",
    "\n",
    "Thanks for your attention and now you have learnt the basics of Julius Graph Engine, it is\n",
    "time to get your hands dirty and write your own rules and atoms! Here is an suggested\n",
    "exercise: modify the streaming use case above, to also report the calculation of Monte Carlo\n",
    "error, which is the standard deviation of the samples divided by the square root of the\n",
    "number of samples. You can take advantage of the following relationship\n",
    "$\\sigma^2(x)=E[x^2] - E^2[x]$ by tracking the average of squares. Then the MC error is\n",
    "$\\frac{\\sigma(x)}{\\sqrt{n}}$ where $n$ is the number of samples streamed.\n",
    "\n",
    "There can be different ways of doing this:\n",
    "1. create a new Datom and corresponding rule, similar to StreamAverage and\n",
    "   datafib.streamaverage, that computes the running mean and MC error, and return them as\n",
    "   two DataFrames in the output vector, or two columns in the same DataFrrame.\n",
    "2. create new Datoms for arithmetic operations like Square, Subtraction and Sqrt on type\n",
    "   DataFrame, then compute the MC error by writing new rules that connects these new datoms\n",
    "\n",
    "The first approach is quick and fast, while the second approach is more generic and\n",
    "reusable, with additional benefits of being able to see the intermediate results."
   ],
   "metadata": {}
  },
  {
   "cell_type": "markdown",
   "source": [
    "---\n",
    "\n",
    "*This notebook was generated using [Literate.jl](https://github.com/fredrikekre/Literate.jl).*"
   ],
   "metadata": {}
  }
 ],
 "nbformat_minor": 3,
 "metadata": {
  "language_info": {
   "file_extension": ".jl",
   "mimetype": "application/julia",
   "name": "julia",
   "version": "1.6.3"
  },
  "kernelspec": {
   "name": "julia-1.6",
   "display_name": "Julia 1.6.3",
   "language": "julia"
  }
 },
 "nbformat": 4
}
