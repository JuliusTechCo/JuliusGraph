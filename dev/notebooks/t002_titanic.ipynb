{
 "cells": [
  {
   "cell_type": "markdown",
   "source": [
    "# Tutorial 2: Machine Learning"
   ],
   "metadata": {}
  },
  {
   "cell_type": "markdown",
   "source": [
    "## How to use this tutorial\n",
    "\n",
    "  * Select \"run all cells\" on this notebook from the Run menu in Jupyter notebook or Jupyter\n",
    "    lab. This step will produce intermediate data output and charts.\n",
    "  * Some cells print out a url, which you can click on and bring up an interactive web UI to\n",
    "    visualize the graph data.\n",
    "  * In the unlikely event that the notebook becomes irresponsive, you can try \"Restart\n",
    "    Kernel\" from the Kernel menu, then run individual cells one by one using `Shift+Enter`.\n",
    "  * Some tutorials use local clusters consisting of multiple processes to mimic the effects\n",
    "    of graph distribution over a remote cluster. By default, these local clusters\n",
    "    automatically stop after idling for 15 minutes to conserve CPU and memory resources. You\n",
    "    will need to rerun the entire notebook if your local cluster stopped due to inactivity.\n",
    "  * Additional resources (video demos & blogs) are available at http://juliustech.co.\n",
    "  * To report any issues, get help or request features, please raise an issue at\n",
    "    https://github.com/JuliusTechCo/JuliusGraph/issues."
   ],
   "metadata": {}
  },
  {
   "cell_type": "markdown",
   "source": [
    "## 0. Introduction\n",
    "\n",
    "This Tutorial shows how to use Julius Graph Engine to set up the training and validation of\n",
    "a machine learning model. We will compare several different ML models to predict (or postdict)\n",
    "the survival of Titanic passengers using the classic Titanic dataset.\n",
    "\n",
    "Julius  distribution includes a `DataScience` package, which contains a rich set of\n",
    "functionalities for data sourcing, cleansing, and machine learning. In this tutorial,\n",
    "we will show how to use the `DataScience` package to quickly build a transparent and\n",
    "sophisticated ML pipeline. This tutorial broadly follow the steps of a data scientist\n",
    "when building a new ML model.\n",
    "\n",
    "## 1. Data Processing\n",
    "\n",
    "### 1.1 Data Sourcing & Visualization\n",
    "\n",
    "A data scientist usually starts their project by exploring and visualizing data of various\n",
    "sources. Julius provides a rich set of connectors to multiple data sources and formats,\n",
    "such as CSV, web url, relational Databases, various NoSQL Databases, etc. Julius also offers\n",
    "many data visualization tools in its interactive web UI.\n",
    "\n",
    "We start by including necessary Julia and Julius packages and set up some basic\n",
    "configurations."
   ],
   "metadata": {}
  },
  {
   "outputs": [],
   "cell_type": "code",
   "source": [
    "# Julia packages\n",
    "using Base.CoreLogging\n",
    "using DataFrames, Statistics\n",
    "\n",
    "# Julius Packages\n",
    "using GraphEngine: RuleDSL, GraphVM\n",
    "using DataScience, AtomExt, GraphIO\n",
    "\n",
    "# turn off informational logging output\n",
    "disable_logging(CoreLogging.Info)\n",
    "\n",
    "# extend the number of displayed columns in Jupyter notebooks\n",
    "ENV[\"COLUMNS\"] = 100;\n",
    "\n",
    "# the project is used for web UI display\n",
    "config = RuleDSL.Config(:project => \"Titanic\");"
   ],
   "metadata": {},
   "execution_count": null
  },
  {
   "cell_type": "markdown",
   "source": [
    "The dataset can be loaded from a url or a local CSV file via rules defined in the `ds`\n",
    "namespace, which is provided in the `DataScience` package. The line commented out is a rule\n",
    "to load the same data from a URL."
   ],
   "metadata": {}
  },
  {
   "outputs": [],
   "cell_type": "code",
   "source": [
    "rawsrc = RuleDSL.@ref ds.csvsrc(\"../data/titanic.csv\", true; label=\"raw csv\");\n",
    "# rawsrc = RuleDSL.@ref ds.urlsrc(\"https://raw.githubusercontent.com/agconti/kaggle-titanic/master/data/train.csv\", true; label=\"raw url\")"
   ],
   "metadata": {},
   "execution_count": null
  },
  {
   "cell_type": "markdown",
   "source": [
    "The very first thing a data scientits do is often to get a summary of the dataset.\n",
    "The follow cell shows how it can be done using the `ds.datasummary` rule in the `DataScience`\n",
    "package."
   ],
   "metadata": {}
  },
  {
   "outputs": [],
   "cell_type": "code",
   "source": [
    "rawsummary = RuleDSL.@ref ds.datasummary(rawsrc; label=\"data summary\")\n",
    "\n",
    "gs1 = GraphVM.createlocalgraph(config, RuleDSL.GenericData());\n",
    "GraphVM.calcfwd!(gs1, Set([rawsummary]));"
   ],
   "metadata": {},
   "execution_count": null
  },
  {
   "cell_type": "markdown",
   "source": [
    "The data summary results can be retrieved using the `GraphVM.getdata` method. The data\n",
    "cached in individual graph nodes are all vectors, the last argument `1` is optional, it\n",
    "selects a given element from the data vector of the node. Without it, the entire vector\n",
    "will be returned."
   ],
   "metadata": {}
  },
  {
   "outputs": [],
   "cell_type": "code",
   "source": [
    "RuleDSL.getdata(gs1, rawsummary, 1)"
   ],
   "metadata": {},
   "execution_count": null
  },
  {
   "cell_type": "markdown",
   "source": [
    "### 1.2 Data Cleansing & Imputation\n",
    "\n",
    "We observe that some columns in the raw data set have `missing` values. Data imputation\n",
    "and cleansing is the next step for the data scientists. Julius' `DataScience`\n",
    "library provides common data imputation methods, which can be easily invoked using the\n",
    "`ds.fillmissing` rule with the desired imputation method for each missing field, i.e., we use\n",
    "median value of Age of all passenger for any missing Ages, and\n",
    "the mode value (which is true) for any missing Embarked.\n",
    "\n",
    "After data imputation, we recompute the data summary, showing all the\n",
    "the `missing` values for both `Age` and `Embarked` features have been populated."
   ],
   "metadata": {}
  },
  {
   "outputs": [],
   "cell_type": "code",
   "source": [
    "cleansrc = RuleDSL.@ref ds.fillmissing(\n",
    "    rawsrc, Dict(:Age => :median, :Embarked => :mode); label=\"imputation\"\n",
    ");\n",
    "\n",
    "cleansummary = RuleDSL.@ref ds.datasummary(cleansrc; label=\"clean summary\")\n",
    "GraphVM.calcfwd!(gs1, Set([cleansummary]))\n",
    "RuleDSL.getdata(gs1, cleansummary, 1)"
   ],
   "metadata": {},
   "execution_count": null
  },
  {
   "cell_type": "markdown",
   "source": [
    "### 1.3 Feature Engineering\n",
    "\n",
    "Once the data scientist is happy with the results of data cleansing and imputation, the next\n",
    "step is feature engineering, which is to add or remove columns from the data set.\n",
    "\n",
    "In the Titanic data set, we want to drop the columns that should have no correlation\n",
    "to a passenger's suvival outcome, such as a passenger's ticket id, name and IDs. Including\n",
    "irrelavant data in the training of a ML model may degrade its performance. The\n",
    "Cabin also has to be dropped because it has too many missing values to be useful.\n",
    "\n",
    "We also create two additional features: 1) the z value of the ticket fare, which is the\n",
    "difference of a passenger's ticket price from the mean price in the unit of standard deviation\n",
    "of the ticket prices; 2) the total number of relatives onboard for a given passenger, which\n",
    "is the sum of the number of siblings (:SibSp) and parents/children (:Parch) onboard.\n",
    "\n",
    "Feature engineering is supported generically by a rule `ds.coltransform` in the\n",
    "`DataScience` package. The following cell shows is usage. The feature engineering can be\n",
    "easily entered as formulae operating on the columns (named by those variables start with `:`)."
   ],
   "metadata": {}
  },
  {
   "outputs": [],
   "cell_type": "code",
   "source": [
    "newfeatures = quote\n",
    "    :Zfare = (:Fare .- mean(:Fare)) ./ std(:Fare)\n",
    "    :Relatives = :SibSp .+ :Parch\n",
    "end\n",
    "\n",
    "dropfeatures = [:Cabin, :Ticket, :PassengerId, :Name]\n",
    "features = RuleDSL.@ref ds.coltransform(cleansrc, :feature, newfeatures, dropfeatures; label=\"feature eng\")\n",
    "\n",
    "featuresummary = RuleDSL.@ref ds.datasummary(features; label=\"feature summary\")\n",
    "GraphVM.calcfwd!(gs1, Set([featuresummary]));"
   ],
   "metadata": {},
   "execution_count": null
  },
  {
   "cell_type": "markdown",
   "source": [
    "The data summary results after feature engineering is therefore:"
   ],
   "metadata": {}
  },
  {
   "outputs": [],
   "cell_type": "code",
   "source": [
    "RuleDSL.getdata(gs1, featuresummary, 1)"
   ],
   "metadata": {},
   "execution_count": null
  },
  {
   "cell_type": "markdown",
   "source": [
    "The entire data processing steps we performed so far can be visualized interactively\n",
    "in Julius convenient web UI by clicking the link below. All the intermediate data are\n",
    "accessilble from the web UI."
   ],
   "metadata": {}
  },
  {
   "outputs": [],
   "cell_type": "code",
   "source": [
    "# start data server for web UI\n",
    "gss = Dict{String,RuleDSL.AbstractGraphState}()\n",
    "port = GraphVM.drawdataport()\n",
    "@async GraphVM.startresponder(gss, port)\n",
    "\n",
    "svg = GraphIO.postlocalgraph(gss, gs1, port, true; key=\"data\");\n",
    "display(\"image/svg+xml\", svg)"
   ],
   "metadata": {},
   "execution_count": null
  },
  {
   "cell_type": "markdown",
   "source": [
    "## 2. Experiment with multiple ML models\n",
    "\n",
    "Once the data scientist is happy with the results of data cleansing, imputation and\n",
    "feature engineering, the next step is often to try multiple ML models and see how\n",
    "they perform on the data set.\n",
    "\n",
    "Julius Graph Engine can interop with existing Python, Java, C++ and R libraries via\n",
    "the generic `Atom` interface, making tt seamless to access the rich set of ML models in\n",
    "these ecosystems.\n",
    "\n",
    "For example, the following rules leverages the Python ML libraries, such as\n",
    "`sklearn` and `xgboost`, by using the `PyTrain` atom provided in the `DataScience` package. The first\n",
    "parameter of the `PyTrain` atom is the full name of the Python ML class to use. The second\n",
    "parameter is a Dictionary with the corresponding parameters/options/arguments of that ML\n",
    "class.\n",
    "\n",
    "```julia\n",
    "@addrules ds begin\n",
    "    classifiertrain(model::Val{:SVC}, options::Dict, traindat::NodeRef) = PyTrain[\"sklearn.svm.SVC\", options](traindat...)\n",
    "    classifiertrain(model::Val{:DecisionTree}, options::Dict, traindat::NodeRef) = PyTrain[\"sklearn.tree.DecisionTreeClassifier\", options](traindat...)\n",
    "    classifiertrain(model::Val{:RandomForest}, options::Dict, traindat::NodeRef) = PyTrain[\"sklearn.ensemble.RandomForestClassifier\", options](traindat...)\n",
    "    classifiertrain(model::Val{:AdaBoost}, options::Dict, traindat::NodeRef) = PyTrain[\"sklearn.ensemble.AdaBoostClassifier\", options](traindat...)\n",
    "    classifiertrain(model::Val{:MLPC}, options::Dict, traindat::NodeRef) = PyTrain[\"sklearn.neural_network.MLPClassifier\", options](traindat...)\n",
    "    classifiertrain(model::Val{:GaussianNB}, options::Dict, traindat::NodeRef) = PyTrain[\"sklearn.naive_bayes.GaussianNB\", options](traindat...)\n",
    "    classifiertrain(model::Val{:XGBoost}, options::Dict, traindat::NodeRef) = PyTrain[\"xgboost.XGBClassifier\", options](traindat...)\n",
    "    classifiertrain(model::Symbol, options::Dict, traindat::NodeRef; label = \"$model-train\") = Alias(classifiertrain(val(model), options, traindat))\n",
    "end\n",
    "```"
   ],
   "metadata": {}
  },
  {
   "cell_type": "markdown",
   "source": [
    "We now proceed to train multiple ML models and compare their in-sample and out-sample\n",
    "performance using metrics, such as Gini. The ML models are trained to predict the survival\n",
    "probability of Titanic passengers. We first define the list of models we want to compare and\n",
    "their hyperparameters."
   ],
   "metadata": {}
  },
  {
   "outputs": [],
   "cell_type": "code",
   "source": [
    "models = [\n",
    "    :DecisionTree => Dict(:min_samples_leaf => 0.1),\n",
    "    :LogisticRegression => Dict(:solver => \"saga\", :max_iter => 200),\n",
    "    :AdaBoost => Dict(),\n",
    "    :XGBoost => Dict(),\n",
    "    :GradientBoost => Dict(:min_samples_leaf => 0.1),\n",
    "    :RandomForest => Dict(:min_samples_leaf => 0.1),\n",
    "    :GaussianNB => Dict(),\n",
    "];"
   ],
   "metadata": {},
   "execution_count": null
  },
  {
   "cell_type": "markdown",
   "source": [
    "The target variable name for ML prediction is given below, which is the survival outcome\n",
    "of passengers."
   ],
   "metadata": {}
  },
  {
   "outputs": [],
   "cell_type": "code",
   "source": [
    "yname = :Survived;"
   ],
   "metadata": {},
   "execution_count": null
  },
  {
   "cell_type": "markdown",
   "source": [
    "To divide the input dataset for training and validation, we use the `randrowsel` rule\n",
    "from the `DataScience` package, which randomly select a portion of the input data as\n",
    "validation set, and the rest is used for training. The parameter `1/3` is the fraction of\n",
    "rows that are reserved for validation."
   ],
   "metadata": {}
  },
  {
   "outputs": [],
   "cell_type": "code",
   "source": [
    "valind = RuleDSL.@ref ds.randrowsel(cleansrc, 1 / 3);"
   ],
   "metadata": {},
   "execution_count": null
  },
  {
   "cell_type": "markdown",
   "source": [
    "`DataScience.ClassifierSpec` is a genereic `struct` that holds all the configurations for\n",
    "training and validating binary classifiers, such as those we have defined so far. It is more\n",
    "convenient and readable to pass the `DataScience.ClassifierSpec` object to a rule, than\n",
    "having to pass five separate parameters. The `DataScience.ClassifierSpec`\n",
    "can be used for any binary classifier problems on data sets. The last parameter to the\n",
    "`DataScience.ClassifierSpec` constructor is a tuple representing the feature engineering."
   ],
   "metadata": {}
  },
  {
   "outputs": [],
   "cell_type": "code",
   "source": [
    "cspec = DataScience.ClassifierSpec(models, cleansrc, yname, valind, (:feature, newfeatures, dropfeatures));"
   ],
   "metadata": {},
   "execution_count": null
  },
  {
   "cell_type": "markdown",
   "source": [
    "Now we can proceed and use the `ds.classifiermetrics` rule, which is also part of `DataScience`,\n",
    "to compute in-sample and out-of-sample metrics for each model. This rule depends on the\n",
    "`ds.classifiertrain` rules defined above for accessing the python ML models."
   ],
   "metadata": {}
  },
  {
   "outputs": [],
   "cell_type": "code",
   "source": [
    "metrics = [:gini, :roc, :accuracyrate, :accuracygraph]\n",
    "basem = RuleDSL.@ref ds.classifiermetrics(cspec, metrics)\n",
    "gs2 = GraphVM.createlocalgraph(config, RuleDSL.GenericData())\n",
    "@time GraphVM.calcfwd!(gs2, Set([basem]));"
   ],
   "metadata": {},
   "execution_count": null
  },
  {
   "cell_type": "markdown",
   "source": [
    "We can retrieve in-sample and out-sample performance metrics, for example, the GINIs:"
   ],
   "metadata": {}
  },
  {
   "outputs": [],
   "cell_type": "code",
   "source": [
    "giniref = RuleDSL.@ref ds.classifiermetric(cspec, :gini)\n",
    "gini = GraphVM.getdata(gs2, hash(giniref), 1)\n",
    "ginidf = DataFrame(model=gini[:InSample][!, :Model], InSample_GINI=gini[:InSample][!, 2], OutSample_GINI=gini[:OutSample][!, 2])"
   ],
   "metadata": {},
   "execution_count": null
  },
  {
   "cell_type": "markdown",
   "source": [
    "The entire data and logic from can be visualized by clicking on the URL below."
   ],
   "metadata": {}
  },
  {
   "outputs": [],
   "cell_type": "code",
   "source": [
    "svg = GraphIO.postlocalgraph(gss, gs2, port; key=\"ml\");\n",
    "display(\"image/svg+xml\", svg)"
   ],
   "metadata": {},
   "execution_count": null
  },
  {
   "cell_type": "markdown",
   "source": [
    "The entire ML pipeline includes all the steps we have defined so far, including data\n",
    "sourcing, imputation, feature engineering, training of multiple ML models and the computation\n",
    "and reporting of performance metrics. A data scientists only need to invoke a few rules\n",
    "defined in `DataScience` package to construct this realistic ML pipeline, the total\n",
    "number of nodes in the graph is 83, as shown below."
   ],
   "metadata": {}
  },
  {
   "outputs": [],
   "cell_type": "code",
   "source": [
    "dg = GraphVM.mygraph(gs2)\n",
    "println(length(dg._items))"
   ],
   "metadata": {},
   "execution_count": null
  },
  {
   "cell_type": "markdown",
   "source": [
    "## 3. Hyperparameter Tuning\n",
    "\n",
    "Once a data scientist narrowed down the choice of ML models to a few, the next step is\n",
    "to select the optimal hyperparameters for these candidate ML models.\n",
    "\n",
    "Julius Graph Engin provides a generic rule `hypertune` for hyperparameter tuning\n",
    "of any ML model. This shows the power of high level rules, where a single\n",
    "hypertune rule can perform hyperparmeter tuning for any ML model.\n",
    "\n",
    "For example, for a given machine learning model, we can select a range for a set of\n",
    "hyperparameters and easily perform a grid search and report the corresponding\n",
    "metric results:"
   ],
   "metadata": {}
  },
  {
   "outputs": [],
   "cell_type": "code",
   "source": [
    "ht_1 = RuleDSL.@ref ds.hypertune(cspec, :XGBoost,       Dict(), :gini, :n_estimators => 50:50:200, :learning_rate    => .05:.05:.2);\n",
    "ht_2 = RuleDSL.@ref ds.hypertune(cspec, :AdaBoost,      Dict(), :gini, :n_estimators => 50:50:200, :learning_rate    => .05:.05:.2);\n",
    "ht_3 = RuleDSL.@ref ds.hypertune(cspec, :GradientBoost, Dict(), :gini, :n_estimators => 50:50:200, :min_samples_leaf => .05:.05:.2);\n",
    "ht_4 = RuleDSL.@ref ds.hypertune(cspec, :RandomForest,  Dict(), :gini, :n_estimators => 50:50:200, :min_samples_leaf => .05:.05:.2);"
   ],
   "metadata": {},
   "execution_count": null
  },
  {
   "cell_type": "markdown",
   "source": [
    "Additional search dimensions can be added to the `ds.hypertune` rule by appending additional\n",
    "pairs of hyperparameter => searchgrid to the end of rule parameter. We can then wrap all\n",
    "the hyperparameter searches in a single node for convenience by means of the `alias` rule\n",
    "wich uses the `Alias` atom:"
   ],
   "metadata": {}
  },
  {
   "outputs": [],
   "cell_type": "code",
   "source": [
    "tunings = RuleDSL.@ref ds.alias([ht_1, ht_2, ht_3, ht_4]; label=\"Hyperparameter Tuning\")"
   ],
   "metadata": {},
   "execution_count": null
  },
  {
   "cell_type": "markdown",
   "source": [
    "Now proceed with the computation of all the defined hyperparameter tunings:"
   ],
   "metadata": {}
  },
  {
   "outputs": [],
   "cell_type": "code",
   "source": [
    "gs3 = GraphVM.createlocalgraph(config, RuleDSL.GenericData());\n",
    "@time GraphVM.calcfwd!(gs3, Set([tunings]));"
   ],
   "metadata": {},
   "execution_count": null
  },
  {
   "cell_type": "markdown",
   "source": [
    "The following cell shows the resulting insample and outsample GINI from the different\n",
    "hyperparametrs for GradientBoost:"
   ],
   "metadata": {}
  },
  {
   "outputs": [],
   "cell_type": "code",
   "source": [
    "dat = GraphVM.getdata(gs3, hash(ht_3))\n",
    "df = deepcopy(dat[1][:, 1:2])\n",
    "df[!, :InSampleGINI] = dat[1][!, 3]\n",
    "df[!, :OutSampleGINI] = dat[2][!, 3]\n",
    "df"
   ],
   "metadata": {},
   "execution_count": null
  },
  {
   "cell_type": "markdown",
   "source": [
    "A data scientist has to exercise sound judgement in selecting the optimal\n",
    "hyperparameter set, which may have to balance multiple objectives. The parameter set with\n",
    "the maximum out-sample gini may not be the best choice. Often, it is better to choose the\n",
    "parameter set with similar in-sample and out-of-sample gini to minimize the chance of\n",
    "overfitting.\n",
    "\n",
    "The details of hyperparameter search can be visualized by clicking the url below."
   ],
   "metadata": {}
  },
  {
   "outputs": [],
   "cell_type": "code",
   "source": [
    "svg = GraphIO.postlocalgraph(gss, gs3, port; key=\"hyper\");\n",
    "display(\"image/svg+xml\", svg)"
   ],
   "metadata": {},
   "execution_count": null
  },
  {
   "cell_type": "markdown",
   "source": [
    "## 4. Conclusions\n",
    "\n",
    "It only takes a few lines of code in Julius to build a sophisticated and ML pipeline, by\n",
    "leveraging the existing rules and atoms provided by the `DataScience` package.  Even though\n",
    "the titanic data set is quite small, the ML pipeline built in this tutorial are quite\n",
    "representative; it has all the essential elements of a real world ML piepline such as data\n",
    "cleansing, imputation, feature engineering, model performance monitoring and hyper parameter\n",
    "tuning.\n",
    "\n",
    "The ML pipeline built by Julius offers full transparency and data lineage, allows data\n",
    "scientists to easily visualze and explore data in every intermediate step, all from Julius'\n",
    "web UI. Julius also offers full data lineage and explanability, a data scientist can easily\n",
    "query and trace how a piece of data is sourced, modified and used throughout the entire ML\n",
    "pipeline, as every intermediate results are automatically cached by Julius Graph Engine.\n",
    "\n",
    "In a next tutorial \"distributed ML pipeline\", we will show how to deal with very large\n",
    "data set that does not fit into memory."
   ],
   "metadata": {}
  },
  {
   "cell_type": "markdown",
   "source": [
    "---\n",
    "\n",
    "*This notebook was generated using [Literate.jl](https://github.com/fredrikekre/Literate.jl).*"
   ],
   "metadata": {}
  }
 ],
 "nbformat_minor": 3,
 "metadata": {
  "language_info": {
   "file_extension": ".jl",
   "mimetype": "application/julia",
   "name": "julia",
   "version": "1.6.3"
  },
  "kernelspec": {
   "name": "julia-1.6",
   "display_name": "Julia 1.6.3",
   "language": "julia"
  }
 },
 "nbformat": 4
}
