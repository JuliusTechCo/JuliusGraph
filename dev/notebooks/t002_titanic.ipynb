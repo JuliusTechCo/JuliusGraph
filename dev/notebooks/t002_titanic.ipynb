{
 "cells": [
  {
   "cell_type": "markdown",
   "source": [
    "# Tutorial 2: Machine Learning"
   ],
   "metadata": {}
  },
  {
   "cell_type": "markdown",
   "source": [
    "## How to use this tutorial\n",
    "  * Select \"run all cells\" on this notebook from the Run menu in Jupyter notebook or Jupyter\n",
    "  lab. This step will produce intermediate data output and charts.\n",
    "  * Some cells print out a url, which you can click on and bring up an interactive web UI to\n",
    "    visualize the graph data.\n",
    "  * In the unlikely event that the notebook becomes irresponsive, you can try \"Restart\n",
    "    Kernel\" from the Kernel menu, then run individual cells one by one using `Shift+Enter`.\n",
    "  * Some tutorials use local clusters consisting of multiple processes to mimic the effects\n",
    "  of graph distribution over a remote clusters. By default, these local clusters\n",
    "  automatically stop after idling for 15min to conserve CPU and memory resources. You will\n",
    "  need to rerun the entire notebook if your local cluster stopped due to inactivity.\n",
    "  * Additional resources (video demos & blogs) are available at http://juliustech.co\n",
    "  * To report any issues, get help or request features, please raise an issue at:\n",
    "   https://github.com/JuliusTechCo/JuliusGraph/issues"
   ],
   "metadata": {}
  },
  {
   "cell_type": "markdown",
   "source": [
    "## Introduction\n",
    "\n",
    "This Tutorial shows how to use Julius Graph Engine to set up the training and validation of\n",
    "a machine learning model. We implement the classic example of using several different ML\n",
    "models to predict (or postdict) the survival of Titanic passengers by using the well-known\n",
    "Titanic dataset.\n",
    "\n",
    "## Data Exploration, Visualization and Cleaning\n",
    "\n",
    "Data scientits can use Julius Graph Engine to quickly explore and visualize data\n",
    "from different sources. Julius provides connections to many data sources and formats,\n",
    "such as CSV, web url, relational Databases, various NoSQL Databases, etc.\n",
    "\n",
    "`DataScience` package is part of Julius distribution, it provides a rich set of\n",
    "rules and atoms for data sourcing, cleansing, and machine learning. In this notebook,\n",
    "we will show how the rules and atoms defined in `DataScience` to quickly build the ML\n",
    "pipeline for the Titanic data set.\n",
    "\n",
    "The relevant rules from `DataScience` package for this tutorial are listed below\n",
    "for your reference.\n",
    "\n",
    "```julia\n",
    "@addrules ds begin\n",
    "    dfsrc(df::DataFrame) = DFSrc[df]()\n",
    "    colsel(r::NodeRef, idx::Vector{Int}) = Index[idx](r...)\n",
    "    csvsrc(filen::String, hashdr::Bool) = Alias(dfsrc(CSV.read(filen, DataFrame, header = hashdr)))\n",
    "    colsplit(ref::NodeRef, idx::Int, yhdr::Set{Symbol}, ex::Set{Symbol}) = ColSplit[idx, yhdr, ex](ref...)\n",
    "    trainvalsplit(ref::NodeRef, pctval::Float64) = RandRowSplit[pctval](ref...)\n",
    "    fillmissing(ref::NodeRef, methods::Dict{Symbol,Symbol}) = FillMissing[methods](ref...)\n",
    "    numerize(ref::NodeRef) = Numerize(ref...)\n",
    "end\n",
    "```"
   ],
   "metadata": {}
  },
  {
   "cell_type": "markdown",
   "source": [
    "We first include the dependent Julia and Julius packages and set up\n",
    "some basic configurations."
   ],
   "metadata": {}
  },
  {
   "outputs": [],
   "cell_type": "code",
   "source": [
    "using GraphEngine: RuleDSL, GraphVM\n",
    "using Base.CoreLogging\n",
    "using DataScience, AtomExt, GraphIO\n",
    "using DataFrames\n",
    "\n",
    "# turn off informational logging output\n",
    "disable_logging(CoreLogging.Info)\n",
    "\n",
    "# extend the number of displayed columns in Jupyter notebooks\n",
    "ENV[\"COLUMNS\"] = 100"
   ],
   "metadata": {},
   "execution_count": null
  },
  {
   "outputs": [],
   "cell_type": "code",
   "source": [
    "# the project is used for web UI display\n",
    "config = RuleDSL.Config(:project => \"Titanic\");\n",
    "\n",
    "# start data server for web UI\n",
    "gss = Dict{String,RuleDSL.AbstractGraphState}()\n",
    "port = GraphVM.drawdataport()\n",
    "@async GraphVM.startresponder(gss, port)"
   ],
   "metadata": {},
   "execution_count": null
  },
  {
   "cell_type": "markdown",
   "source": [
    "The dataset can be loaded by either directly using a url or by providing a CSV source file\n",
    "via rules defined in the `ds` namespace, which are defined in the `DataScience` package. The\n",
    "line commented out is a rule to load the same data from a URL."
   ],
   "metadata": {}
  },
  {
   "outputs": [],
   "cell_type": "code",
   "source": [
    "rawsrc = RuleDSL.@ref ds.csvsrc(\"../data/titanic.csv\", true; label=\"raw csv\")\n",
    "# rawsrc = RuleDSL.@ref ds.urlsrc(\"https://raw.githubusercontent.com/agconti/kaggle-titanic/master/data/train.csv\", true; label=\"raw url\")"
   ],
   "metadata": {},
   "execution_count": null
  },
  {
   "cell_type": "markdown",
   "source": [
    "The very first thing a data scientits may want to do is to get a summary of the dataset.\n",
    "The follow cell shows how it can be done using the `ds.datasummary` rule in the `DataScience`\n",
    "package."
   ],
   "metadata": {}
  },
  {
   "outputs": [],
   "cell_type": "code",
   "source": [
    "rawsummary = RuleDSL.@ref ds.datasummary(rawsrc; label=\"data summary\")\n",
    "\n",
    "gs = GraphVM.createlocalgraph(config, RuleDSL.GenericData());\n",
    "GraphVM.calcfwd!(gs, Set([rawsummary]))"
   ],
   "metadata": {},
   "execution_count": null
  },
  {
   "cell_type": "markdown",
   "source": [
    "The data summary results can be retrieved using the `GraphVM.getdata` method. The data\n",
    "cached in individual graph nodes are all vectors, the last argument `1` just refers to the\n",
    "first and only element of the data summary. Some nodes will have multiple entries in the\n",
    "data vector."
   ],
   "metadata": {}
  },
  {
   "outputs": [],
   "cell_type": "code",
   "source": [
    "RuleDSL.getdata(gs, rawsummary, 1)"
   ],
   "metadata": {},
   "execution_count": null
  },
  {
   "cell_type": "markdown",
   "source": [
    "We observe that some columns in the raw data set have `missing` values. Data imputation\n",
    "and cleansing is a common task for building ML models. Julius' `DataScience`\n",
    "library has provided data imputation methods, which can be easily used by calling the\n",
    "`fillmissing` rule with the desired imputation method for a each field, i.e., we use\n",
    "median value of Age of all passenger for any missing Age, and use the mode value\n",
    "(which is true) for any missing Embarked."
   ],
   "metadata": {}
  },
  {
   "outputs": [],
   "cell_type": "code",
   "source": [
    "cleansrc = RuleDSL.@ref ds.fillmissing(\n",
    "    rawsrc, Dict(:Age => :median, :Embarked => :mode); label=\"impute missing\"\n",
    ")"
   ],
   "metadata": {},
   "execution_count": null
  },
  {
   "cell_type": "markdown",
   "source": [
    "After data imputation, we recompute the data summary, showing all the\n",
    "the `missing` values for both `Age` and `Embarked` features have been populated:"
   ],
   "metadata": {}
  },
  {
   "outputs": [],
   "cell_type": "code",
   "source": [
    "cleansummary = RuleDSL.@ref ds.datasummary(cleansrc; label=\"clean summary\")\n",
    "GraphVM.calcfwd!(gs, Set([cleansummary]))\n",
    "RuleDSL.getdata(gs, cleansummary, 1)"
   ],
   "metadata": {},
   "execution_count": null
  },
  {
   "cell_type": "markdown",
   "source": [
    "The entire data sourcing and cleansing can be visualized interactively in Julius\n",
    "convenient web UI by clicking the link below."
   ],
   "metadata": {}
  },
  {
   "outputs": [],
   "cell_type": "code",
   "source": [
    "svg = GraphIO.postlocalgraph(gss, gs, port; key=\"data\");\n",
    "display(\"image/svg+xml\", svg)"
   ],
   "metadata": {},
   "execution_count": null
  },
  {
   "cell_type": "markdown",
   "source": [
    "### 2. Experiment with multiple Machine Learning models\n",
    "\n",
    "Julius Graph Engine can easily interop with existing Python, Java, C++ and R libraries via\n",
    "the generic `Atom` interface\n",
    "\n",
    "For example, the following rules show how easy it is to access Python ML libraries, such as\n",
    "`sklearn`, by using the `PyTrain` atom provided in the `DataScience` package. The first\n",
    "parameter of the `PyTrain` atom is the full name of the Python ML class to use. The second\n",
    "parameter is a Dictionary with the corresponding parameters/options/arguments of that ML\n",
    "class.\n",
    "\n",
    "```julia\n",
    "@addrules ds begin\n",
    "    classifiertrain(model::Val{:SVC}, options::Dict, traindat::NodeRef) = PyTrain[\"sklearn.svm.SVC\", options](traindat...)\n",
    "    classifiertrain(model::Val{:DecisionTree}, options::Dict, traindat::NodeRef) = PyTrain[\"sklearn.tree.DecisionTreeClassifier\", options](traindat...)\n",
    "    classifiertrain(model::Val{:RandomForest}, options::Dict, traindat::NodeRef) = PyTrain[\"sklearn.ensemble.RandomForestClassifier\", options](traindat...)\n",
    "    classifiertrain(model::Val{:AdaBoost}, options::Dict, traindat::NodeRef) = PyTrain[\"sklearn.ensemble.AdaBoostClassifier\", options](traindat...)\n",
    "    classifiertrain(model::Val{:MLPC}, options::Dict, traindat::NodeRef) = PyTrain[\"sklearn.neural_network.MLPClassifier\", options](traindat...)\n",
    "    classifiertrain(model::Val{:GaussianNB}, options::Dict, traindat::NodeRef) = PyTrain[\"sklearn.naive_bayes.GaussianNB\", options](traindat...)\n",
    "    classifiertrain(model::Val{:XGBoost}, options::Dict, traindat::NodeRef) = PyTrain[\"xgboost.XGBClassifier\", options](traindat...)\n",
    "    classifiertrain(model::Symbol, options::Dict, traindat::NodeRef; label = \"$model-train\") = Alias(classifiertrain(val(model), options, traindat))\n",
    "end\n",
    "```"
   ],
   "metadata": {}
  },
  {
   "cell_type": "markdown",
   "source": [
    "We now proceed to train multiple ML models and compare their in-sample and out-sample\n",
    "performance using metrics, such as Gini. The ML models are trained to predict the survival\n",
    "probability of Titanic passengers. We first define the list of models we want to compare and\n",
    "their hyperparameters."
   ],
   "metadata": {}
  },
  {
   "outputs": [],
   "cell_type": "code",
   "source": [
    "models = [\n",
    "    :DecisionTree => Dict(:min_samples_leaf => 0.1),\n",
    "    :LogisticRegression => Dict(:solver => \"saga\", :max_iter => 200),\n",
    "    :AdaBoost => Dict(),\n",
    "    :XGBoost => Dict(),\n",
    "    :GradientBoost => Dict(:min_samples_leaf => 0.1),\n",
    "    :RandomForest => Dict(:min_samples_leaf => 0.1),\n",
    "    :GaussianNB => Dict(),\n",
    "];"
   ],
   "metadata": {},
   "execution_count": null
  },
  {
   "cell_type": "markdown",
   "source": [
    "The target variable name for ML prediction is given below."
   ],
   "metadata": {}
  },
  {
   "outputs": [],
   "cell_type": "code",
   "source": [
    "yname = :Survived;"
   ],
   "metadata": {},
   "execution_count": null
  },
  {
   "cell_type": "markdown",
   "source": [
    "To divide the input dataset for training and validation, we use the `randrowsel` rule\n",
    "from the `DataScience` package. The resulting node `valind` contains a `DataFrame` with a\n",
    "validation index column of `Vector{Bool}` type that randomly indicates wether a row is used\n",
    "for training or validation. The `1/3` is the percentage of rows that will\n",
    "be reserved for validation."
   ],
   "metadata": {}
  },
  {
   "outputs": [],
   "cell_type": "code",
   "source": [
    "valind = RuleDSL.@ref ds.randrowsel(cleansrc, 1 / 3);"
   ],
   "metadata": {},
   "execution_count": null
  },
  {
   "cell_type": "markdown",
   "source": [
    "Feature engineering is also supported generically by a rule in `DataScience` package. A feature\n",
    "set is defined by a 3-element `Tuple`, including the name of the feature set, a Julia `Expr`\n",
    "providing the transformations for additional features and lastly, the columns to be dropped\n",
    " from the feature set. In this particular case, we only drop some columns that should have\n",
    " no association with a passenger's suvival probability such as Ticket Id and passenger' name\n",
    " and Ids. The Cabin is dropped from the feature set because it has too many missing values."
   ],
   "metadata": {}
  },
  {
   "outputs": [],
   "cell_type": "code",
   "source": [
    "# definition of feature engineering: (name, transformations, drop columns)\n",
    "features = (\n",
    "    :Original,\n",
    "    quote end,\n",
    "    [:Cabin, :Ticket, :PassengerId, :Name],\n",
    ");"
   ],
   "metadata": {},
   "execution_count": null
  },
  {
   "cell_type": "markdown",
   "source": [
    "Note that `quote end` is just an empty `Expr` that does not create additional\n",
    "features from the original data set.\n",
    "\n",
    "`DataScience.ClassifierSpec` is a `struct` that contains all the information required for\n",
    "training and validating multiple binary classifiers, it includes the key configurations we\n",
    "have defined so far. It is more convenient and readable to pass a single\n",
    "`DataScience.ClassifierSpec` object than five separate parameters. The\n",
    "`DataScience.ClassifierSpec` is generic, it can be used for any binary classifier\n",
    "problems and data sets."
   ],
   "metadata": {}
  },
  {
   "outputs": [],
   "cell_type": "code",
   "source": [
    "cspec = DataScience.ClassifierSpec(models, cleansrc, yname, valind, features);"
   ],
   "metadata": {},
   "execution_count": null
  },
  {
   "cell_type": "markdown",
   "source": [
    "Now we can proceed and use the `classifiermetrics` rule to compute in-sample and\n",
    "out-of-sample metrics for each model. Internally, this rule calls many other rules for each\n",
    "model and metric, eventually invoking the `classifiertrain` rules mentioned at the beginning\n",
    "of the section:"
   ],
   "metadata": {}
  },
  {
   "outputs": [],
   "cell_type": "code",
   "source": [
    "metrics = [:gini, :roc, :accuracyrate, :accuracygraph]\n",
    "basem = RuleDSL.@ref ds.classifiermetrics(cspec, metrics)\n",
    "gs2 = GraphVM.createlocalgraph(config, RuleDSL.GenericData())\n",
    "@time GraphVM.calcfwd!(gs2, Set([basem]));"
   ],
   "metadata": {},
   "execution_count": null
  },
  {
   "cell_type": "markdown",
   "source": [
    "We can retrieve in-sample and out-sample performance metrics, for example, the GINIs:"
   ],
   "metadata": {}
  },
  {
   "outputs": [],
   "cell_type": "code",
   "source": [
    "giniref = RuleDSL.@ref ds.classifiermetric(cspec, :gini)\n",
    "gini = GraphVM.getdata(gs2, hash(giniref), 1)\n",
    "ginidf = DataFrame(model=gini[:InSample][!, :Model], InSample_GINI=gini[:InSample][!, 2], OutSample_GINI=gini[:OutSample][!, 2])"
   ],
   "metadata": {},
   "execution_count": null
  },
  {
   "cell_type": "markdown",
   "source": [
    "The entire data and logic from can be visualized by clicking on the URL below."
   ],
   "metadata": {}
  },
  {
   "outputs": [],
   "cell_type": "code",
   "source": [
    "svg = GraphIO.postlocalgraph(gss, gs2, port; key=\"ml\");\n",
    "display(\"image/svg+xml\", svg)"
   ],
   "metadata": {},
   "execution_count": null
  },
  {
   "cell_type": "markdown",
   "source": [
    "## Hyperparameter Tuning\n",
    "\n",
    "Our Julius Graph Engine also provides a generic rule `hypertune` for hyperparameter tuning\n",
    "of any ML model. This illustrates the power of rule composition, where a single hypertune\n",
    "rule can leverage existing rules to search for hyperparmeters of any ML model.\n",
    "\n",
    "For example, for a given machine learning model, we can select a range for a set of\n",
    "hyperparameters and easily perform a grid search with respect to a metric:"
   ],
   "metadata": {}
  },
  {
   "outputs": [],
   "cell_type": "code",
   "source": [
    "ht_1 = RuleDSL.@ref ds.hypertune(cspec, :XGBoost,       Dict(), :gini, :n_estimators => 50:50:200, :learning_rate    => .05:.05:.2);\n",
    "ht_2 = RuleDSL.@ref ds.hypertune(cspec, :AdaBoost,      Dict(), :gini, :n_estimators => 50:50:200, :learning_rate    => .05:.05:.2);\n",
    "ht_3 = RuleDSL.@ref ds.hypertune(cspec, :GradientBoost, Dict(), :gini, :n_estimators => 50:50:200, :min_samples_leaf => .05:.05:.2);\n",
    "ht_4 = RuleDSL.@ref ds.hypertune(cspec, :RandomForest,  Dict(), :gini, :n_estimators => 50:50:200, :min_samples_leaf => .05:.05:.2);"
   ],
   "metadata": {},
   "execution_count": null
  },
  {
   "cell_type": "markdown",
   "source": [
    "Additional search dimensions can be added to the `ds.hypertune` rule by appending additioanl\n",
    "pairs of hyperparameter => searchgrid to the end of rule parameter. We can then wrap the\n",
    "previous nodes in a single node for convenience by means of the `alias` rule wich uses\n",
    "the `Alias` atom:"
   ],
   "metadata": {}
  },
  {
   "outputs": [],
   "cell_type": "code",
   "source": [
    "tunings = RuleDSL.@ref ds.alias([ht_1, ht_2, ht_3, ht_4]; label=\"Hyperparameter Tuning\")"
   ],
   "metadata": {},
   "execution_count": null
  },
  {
   "cell_type": "markdown",
   "source": [
    "Now proceed with the computation of all the defined hyperparameter tunings:"
   ],
   "metadata": {}
  },
  {
   "outputs": [],
   "cell_type": "code",
   "source": [
    "gs3 = GraphVM.createlocalgraph(config, RuleDSL.GenericData());\n",
    "@time GraphVM.calcfwd!(gs3, Set([tunings]));"
   ],
   "metadata": {},
   "execution_count": null
  },
  {
   "cell_type": "markdown",
   "source": [
    "The following cell shows the resulting insample and outsample GINI from the different\n",
    "hyperparametrs for GradientBoost:"
   ],
   "metadata": {}
  },
  {
   "outputs": [],
   "cell_type": "code",
   "source": [
    "dat = GraphVM.getdata(gs3, hash(ht_3))\n",
    "df = deepcopy(dat[1][:, 1:2])\n",
    "df[!, :InSampleGINI] = dat[1][!, 3]\n",
    "df[!, :OutSampleGINI] = dat[2][!, 3]\n",
    "df"
   ],
   "metadata": {},
   "execution_count": null
  },
  {
   "cell_type": "markdown",
   "source": [
    "Please note that the developer is in charge of selecting the optimal hyperparameter set,\n",
    "as this may involve multiple objectives, the parameter set producing the maximum out-sample\n",
    "gini may not be the best choice. Often, it is better to choose the parameter set with similar\n",
    "in-sample and out-of-sample gini to minimize the chance of overfitting."
   ],
   "metadata": {}
  },
  {
   "outputs": [],
   "cell_type": "code",
   "source": [
    "svg = GraphIO.postlocalgraph(gss, gs3, port; key=\"hyper\");\n",
    "display(\"image/svg+xml\", svg)"
   ],
   "metadata": {},
   "execution_count": null
  },
  {
   "cell_type": "markdown",
   "source": [
    "---\n",
    "\n",
    "*This notebook was generated using [Literate.jl](https://github.com/fredrikekre/Literate.jl).*"
   ],
   "metadata": {}
  }
 ],
 "nbformat_minor": 3,
 "metadata": {
  "language_info": {
   "file_extension": ".jl",
   "mimetype": "application/julia",
   "name": "julia",
   "version": "1.6.3"
  },
  "kernelspec": {
   "name": "julia-1.6",
   "display_name": "Julia 1.6.3",
   "language": "julia"
  }
 },
 "nbformat": 4
}
