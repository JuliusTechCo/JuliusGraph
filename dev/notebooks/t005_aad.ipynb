{
 "cells": [
  {
   "cell_type": "markdown",
   "source": [
    "# Tutorial 5: Adjoint Algorithmic Differentiation (AAD)"
   ],
   "metadata": {}
  },
  {
   "cell_type": "markdown",
   "source": [
    "## How to use this tutorial\n",
    "\n",
    "  * Select \"run all cells\" on this notebook from the Run menu in Jupyter notebook or Jupyter\n",
    "    lab. This step will produce the intermediate data output and charts. You can also run\n",
    "    individual cells by selecting that cell and pressing `Shift+Enter` key.\n",
    "  * Some cells print out a url, which you can click on and bring up an interactive web UI to\n",
    "    visualize the graph data.\n",
    "  * Time Limits: please be aware of the following time limits to conserve CPU and memory:\n",
    "    * 15 min: Some tutorials use local clusters consisting of multiple processes to mimic\n",
    "      the effects of graph distribution over a remote cluster. By default, these local clusters\n",
    "      automatically stop after idling for 15 minutes.\n",
    "      If you see an 504 gateway timeout error in the web UI, it is most likely your local cluster has stopped.\n",
    "      In that case, you will need to rerun the entire notebook by selecting \"Restart Kernel and Run All Cells\".\n",
    "    * 1 hour: notebook kernels will terminate after no user activity for 1 hour, the kernel\n",
    "      status on the right upper corner will show \"No Kernel\" afterwards. You can select\n",
    "      \"Restart Kernel and Run All Cells\" from the Kernel menu, to restart the kernel and re-run\n",
    "      the notebook.\n",
    "    * 2 hours: you will be logged out if no user activity for 2 hours. Afterwards you need\n",
    "      to login to Julius dev environment again by going to [https://juliusgraph.com](https://juliusgraph.com)\n",
    "  * Additional resources (video demos & blogs) are available at http://juliustech.co.\n",
    "  * To report bugs or request new features, please raise an issue\n",
    "    [here](https://github.com/JuliusTechCo/JuliusGraph/issues).\n",
    "    To schedule a live demo, please go to [http://juliustech.co](http://juliustech.co).\n",
    "    Please email us at info@juliustech.co for other general inquiries."
   ],
   "metadata": {}
  },
  {
   "cell_type": "markdown",
   "source": [
    "## Introduction\n",
    "\n",
    "The main topic of this tutorial is adjoint algorithmic differentiation (AAD),\n",
    "a powerful technique for computing first order derivatives quickly and accurately using\n",
    "chain rules. AAD offers a significant performance gain, sometimes thousands of times, when\n",
    "compared to the traditional finite difference method (i.e. bump and recalculation) for\n",
    "computing first order derivatives. AAD is particularly relevant for quantitative finance\n",
    "applications, as the first order derivatives are widely used for hedging and risk management.\n",
    "\n",
    "The traditional approach to implementing AAD requires a tape to record the primal\n",
    "calculations. Then the tape is run in reverse for the backward AD. This approach is memory\n",
    "intensive and does not scale well to large applications or systems. A large system usually\n",
    "consists of many software components running concurrently on multiple computers, so it is\n",
    "not feasible to record a single consistent tape.\n",
    "\n",
    "Julius offers an easy and efficient way to implement AAD for large distributed systems.\n",
    "Julius uses the computational DAG to cache the values and keep track of the dependency of\n",
    "the primal calculations, then the entire DAG is run in reverse for the AAD calculation. Both\n",
    "primal and backward AD run can be fully distributed by the Julius Graph Engine for high\n",
    "performance and scalability. All of this is achieved without using the memory intensive tape\n",
    "recordings.\n",
    "\n",
    "AAD is a rich and complex topic, and this tutorial is only a very high level introduction to\n",
    "Julius' AAD capabilities. Please reach out to us at (info@juliustech.co) for a more in depth\n",
    "demo if you are interested in learning the full capabilities of Julius AAD.\n",
    "\n",
    "Similar to the quickstart tutorial, we start with a simple Fibonacci sequence example.\n",
    "\n",
    "## Quantom\n",
    "\n",
    "We have covered the type `Datom` in the quickstart tutorial. `Quantom` is\n",
    "another important subtype of `Atom`, and it stands for quantitative atom. ```Quantum``` is\n",
    "the main work horse for numerical computations with AAD in Julius Graph Engine. Unlike Datom\n",
    "that can take any data\n",
    "types as inputs and output, the inputs and outputs of Quantoms must be vectors or matrices\n",
    "of `Float64` (double precision floating point numbers). Non-numerical datatypes would not\n",
    "make sense for AAD, which is the primary reason to use a `Quantom` type.\n",
    "\n",
    "In this tutorial, we will not go into the details of the `Quantom` interface or how to\n",
    "implement new `Quantom` types. Instead, we will use existing `Quantom` implementations\n",
    "provided by Julius to illustrate the AAD capabilities. Julius provides a rich set of\n",
    "`Quantom`  libraries for the most common numerical algorithms, including root searching,\n",
    "interpolation, and common stochastic processes etc. All the Julius `Quantom` implementations\n",
    "come with full AAD support and have been extensively tested."
   ],
   "metadata": {}
  },
  {
   "outputs": [],
   "cell_type": "code",
   "source": [
    "# disable the display of information logging\n",
    "using Base.CoreLogging\n",
    "disable_logging(CoreLogging.Info)\n",
    "\n",
    "using GraphEngine: RuleDSL, GraphVM\n",
    "using GraphEngine.RuleDSL\n",
    "using GraphIO"
   ],
   "metadata": {},
   "execution_count": null
  },
  {
   "cell_type": "markdown",
   "source": [
    "The following few rules define the Fibonacci sequence in the RuleDSL.\n",
    "These definitions are very similar to those we have seen in the quick start tutorials.\n",
    "The only difference here is that the `RuleDSL.WeigthedSum` quantum is used."
   ],
   "metadata": {}
  },
  {
   "outputs": [],
   "cell_type": "code",
   "source": [
    "@addrules series begin\n",
    "    fib(x::Float64) = Alias(fib(Int(floor(x))))\n",
    "    fib(n::Int) = RuleDSL.Alias(fib(n, Val(n <= 1)))\n",
    "    fib(n::Int, isend::Val{false}) = begin\n",
    "        RuleDSL.WeightedSum[[1.0; 1.0]](\n",
    "            fib(n - 1, Val(n <= 2)), fib(n - 2, Val(n <= 3))\n",
    "        )\n",
    "    end\n",
    "    fib(n::Int, isend::Val{true}) = RuleDSL.Constant[[fill(Float64(n), 1)]]()\n",
    "end\n",
    "\n",
    "config = RuleDSL.Config();"
   ],
   "metadata": {},
   "execution_count": null
  },
  {
   "cell_type": "markdown",
   "source": [
    "The following cell overrides the nodelabel function for the customized display of\n",
    "graph nodes. Users can freely override them to customize the text label display on the\n",
    "computational graph."
   ],
   "metadata": {}
  },
  {
   "outputs": [],
   "cell_type": "code",
   "source": [
    "# override displays\n",
    "function nodelabel(::RuleDSL.AbstractGraphState, r::RuleDSL.RuleNode)\n",
    "    hdr = \"$(r.ns).$(r.op[1])\"\n",
    "    typestr(x) = x.args[2]\n",
    "    typ = join(typestr.(r.op[2]), \", \")\n",
    "\n",
    "    return hdr * \"($typ)\"\n",
    "end\n",
    "\n",
    "function nodelabel(::RuleDSL.AbstractGraphState, ref::RuleDSL.NodeRef)\n",
    "    hdr = \"$(ref.ns).$(ref.name)\"\n",
    "    ps = join(simplerepr.(ref.params), \", \")\n",
    "\n",
    "    return \"$hdr($ps)\"\n",
    "end"
   ],
   "metadata": {},
   "execution_count": null
  },
  {
   "cell_type": "markdown",
   "source": [
    "`RuleDSL.NumericalData` is a sub type of `GraphData` type that provides runtime support to\n",
    "the adjoint algorithmic differentiation (AAD). The second parameter to `NumericalData` specifies\n",
    "the default $\\vec x$ in the AAD output of $\\frac{\\partial{\\vec y}}{\\partial {\\vec x}}$.\n",
    "Here $\\vec y$ is specified by the unique hash id of `hash(fib5)`:"
   ],
   "metadata": {}
  },
  {
   "outputs": [],
   "cell_type": "code",
   "source": [
    "fib5 = @ref series.fib(5.2)\n",
    "fib0 = @ref series.fib(0, Val(true))\n",
    "fib1 = @ref series.fib(1, Val(true))\n",
    "\n",
    "cs = RuleDSL.NumericalData(config, Set([fib0, fib1]));\n",
    "gs = RuleDSL.createlocalgraph(config, cs);\n",
    "\n",
    "# primal calculation\n",
    "RuleDSL.calcfwd!(gs, Set([fib5]));\n",
    "# backward AD calculation\n",
    "RuleDSL.calcback!(gs, Set([hash(fib5)]));"
   ],
   "metadata": {},
   "execution_count": null
  },
  {
   "cell_type": "markdown",
   "source": [
    "We can retrieve the results of $\\vec y$ and the first order derivatives from AAD."
   ],
   "metadata": {}
  },
  {
   "outputs": [],
   "cell_type": "code",
   "source": [
    "y = RuleDSL.getys(gs, hash(fib5))\n",
    "dydx0 = RuleDSL.getyds(gs, hash(fib0), hash(fib5))\n",
    "dydx1 = RuleDSL.getyds(gs, hash(fib1), hash(fib5))\n",
    "\n",
    "println(\"fib5 =\", y[1])\n",
    "println(\"dfib5_dfib0 =\", dydx0[1])\n",
    "println(\"dfib5_dfib1 =\", dydx1[1])"
   ],
   "metadata": {},
   "execution_count": null
  },
  {
   "cell_type": "markdown",
   "source": [
    "The corresponding computation graph is shown below, and you can click the link below to see\n",
    "it in an interactive web UI."
   ],
   "metadata": {}
  },
  {
   "outputs": [],
   "cell_type": "code",
   "source": [
    "# start data server for web UI\n",
    "gss = Dict{String,RuleDSL.AbstractGraphState}()\n",
    "port = GraphVM.drawdataport()\n",
    "@async GraphVM.startresponder(gss, port);\n",
    "\n",
    "import GraphEngine.RuleDSL: nodelabel"
   ],
   "metadata": {},
   "execution_count": null
  },
  {
   "outputs": [],
   "cell_type": "code",
   "source": [
    "svg = GraphIO.postlocalgraph(gss, deepcopy(gs), port, true; key=\"fib5\");\n",
    "display(\"image/svg+xml\", svg)"
   ],
   "metadata": {},
   "execution_count": null
  },
  {
   "cell_type": "markdown",
   "source": [
    "## Caching\n",
    "\n",
    "One of the main challenges in AAD implementation is its high memory consumption. The reverse\n",
    "AD calculation in AAD requires the primal calculation results to be cached. In the\n",
    "traditional tape based approach, the memory required for caching the primal calculation\n",
    "can quickly grow beyond the size of available physical memory, causing AAD execution\n",
    "to fail for large problems. Advanced AAD techniques such as checkpointing are needed to\n",
    "limit the memory consumption, but they require additional coding efforts and thus further\n",
    "complicate the AAD implementation.\n",
    "\n",
    "The Julius Graph Engine offers a better alternative by automatically caching all the\n",
    "intermediate results in the computational graph. For very large problems, Julius can\n",
    "automatically distribute the computational graph across multiple computers, and leverage all\n",
    "of their physical memories. Thus, Julius can access practically an unlimited amount of\n",
    "memory when running in distributed mode. In addition, Julius only caches the primal results\n",
    "at the node level, as opposed to the individual arithmetic operator level in the traditional\n",
    "AAD taping implementation. As a result, Julius' caching is much more memory efficient for\n",
    "complex problems. Julius has effectively implemented automatic checkpointing for every\n",
    "individual `Quantum`.  A `Quantom` object in each individual node can perform a heavy and\n",
    "complex calculation with AAD, and the intermediate primal results within the individual\n",
    "quantoms do not need to be cached.\n",
    "\n",
    "Because Julius automatically caches all intermediate results in the graph, any incremental\n",
    "computation will automatically re-use existing values in the cache, instead of recomputing\n",
    "them from scratch. The following cells show that when computing `fib(10)`, all the nodes up\n",
    "to `fib(5)` from the previous step are re-used."
   ],
   "metadata": {}
  },
  {
   "outputs": [],
   "cell_type": "code",
   "source": [
    "fib10 = @ref series.fib(10)\n",
    "# primal calculation\n",
    "GraphVM.calcfwd!(gs, Set([fib10]));\n",
    "# backward AD calculation\n",
    "RuleDSL.calcback!(gs, Set([hash(fib10)]));\n",
    "\n",
    "y = RuleDSL.getys(gs, hash(fib10))\n",
    "df10df0 = RuleDSL.getyds(gs, hash(fib0), hash(fib10))\n",
    "df10df1 = RuleDSL.getyds(gs, hash(fib1), hash(fib10))\n",
    "\n",
    "println(\"fib10 =\", y[1])\n",
    "println(\"dfib10_dfib0 =\", df10df0[1])\n",
    "println(\"dfib10_dfib1 =\", df10df1[1])"
   ],
   "metadata": {},
   "execution_count": null
  },
  {
   "cell_type": "markdown",
   "source": [
    "The corresponding computational graph is shown below:"
   ],
   "metadata": {}
  },
  {
   "outputs": [],
   "cell_type": "code",
   "source": [
    "svg = GraphIO.postlocalgraph(gss, deepcopy(gs), port, true; key=\"fib10\");\n",
    "display(\"image/svg+xml\", svg)"
   ],
   "metadata": {},
   "execution_count": null
  },
  {
   "cell_type": "markdown",
   "source": [
    "## Namespace Clone and Override\n",
    "\n",
    "Rules are organized within individual namespaces in the Julius RuleDSL. For example the\n",
    "`series` is a namespace in the rules declaration above. One important feature of Julius is\n",
    "that the rules can be cloned to different namespaces and overridden. This facilitates\n",
    "comparisons between the old and new versions of rules, making change management and impact\n",
    "analysis much very simple in practice.\n",
    "\n",
    "For example, if we update the above Fibonacci sequence definition to take random vectors as\n",
    "fib(0) and fib(1) instead of scalars 0 and 1, we can create a clone of the namespace\n",
    " \"series\". The cloned namespace automatically inherits all the rules declared in the old\n",
    " namespace.  We can override the single rule on the initial terms and keep other rules\n",
    "unchanged from the old namespace."
   ],
   "metadata": {}
  },
  {
   "outputs": [],
   "cell_type": "code",
   "source": [
    "@clone series => vecs\n",
    "\n",
    "@addrules vecs begin\n",
    "    fib(n::Int, isend::Val{true}) = RuleDSL.Constant[[randn(10)]]()\n",
    "end"
   ],
   "metadata": {},
   "execution_count": null
  },
  {
   "outputs": [],
   "cell_type": "code",
   "source": [
    "vfib10 = @ref vecs.fib(10)\n",
    "# primal calculation\n",
    "@time GraphVM.calcfwd!(gs, Set([vfib10]));\n",
    "\n",
    "y = RuleDSL.getys(gs, hash(vfib10))\n",
    "println(\"vfib10 =\", y[1])"
   ],
   "metadata": {},
   "execution_count": null
  },
  {
   "cell_type": "markdown",
   "source": [
    "We can see an interactive side by side comparison of the two versions of the calculation,\n",
    "before and after changing the initial values to random vectors, by clicking the URL below to\n",
    "bring up Julius' interactive web UI."
   ],
   "metadata": {}
  },
  {
   "outputs": [],
   "cell_type": "code",
   "source": [
    "svg = GraphIO.postlocalgraph(gss, deepcopy(gs), port, true; key=\"vecs\");\n",
    "display(\"image/svg+xml\", svg)"
   ],
   "metadata": {},
   "execution_count": null
  },
  {
   "cell_type": "markdown",
   "source": [
    "Julius AAD implementation supports multiple sensitivity views from the same primal\n",
    "calculation. The sensitivity view is a Jacobian matrix\n",
    "$\\frac{\\partial \\vec y}{\\partial \\vec x}$ where $\\vec y$ and $\\vec x$ can be any connected\n",
    "node in the graph.\n",
    "\n",
    "The following few cells show the computation of different sensitivity views without\n",
    "repeating the primal calculation. Please note that the AAD output of the vector version\n",
    "of the Fibonacci sequence in the new namespace `vecs` is a full Jacobian\n",
    "matrix."
   ],
   "metadata": {}
  },
  {
   "outputs": [],
   "cell_type": "code",
   "source": [
    "v10 = @ref vecs.fib(10)\n",
    "v0 = @ref vecs.fib(0, Val(true))\n",
    "v1 = @ref vecs.fib(1, Val(true))\n",
    "\n",
    "# backward AD\n",
    "RuleDSL.calcback!(gs, Set(hash.([v10])), Set([v0; v1]));\n",
    "\n",
    "dv10_dv0 = RuleDSL.getyds(gs, hash(v0), hash(v10))\n",
    "dv10_dv1 = RuleDSL.getyds(gs, hash(v1), hash(v10))\n",
    "\n",
    "println(\"fib_v10 = \", RuleDSL.getys(gs, hash(v10))[1])\n",
    "println(\"dv10_dv0 = \", dv10_dv0[1])\n",
    "println(\"dv10_dv1 = \", dv10_dv1[1])"
   ],
   "metadata": {},
   "execution_count": null
  },
  {
   "outputs": [],
   "cell_type": "code",
   "source": [
    "v8 = @ref vecs.fib(8, Val(false))\n",
    "v2 = @ref vecs.fib(2, Val(false))\n",
    "v3 = @ref vecs.fib(3, Val(false))\n",
    "\n",
    "# backward AD with a different sensitivity view\n",
    "RuleDSL.calcback!(gs, Set(hash.([v8])), Set([v2; v3]));\n",
    "\n",
    "dv8_dv2 = RuleDSL.getyds(gs, hash(v2), hash(v8))\n",
    "dv8_dv3 = RuleDSL.getyds(gs, hash(v3), hash(v8))\n",
    "\n",
    "println(\"fib_v8 =\", RuleDSL.getys(gs, hash(v8))[1])\n",
    "println(\"dv8_dv0 =\", dv8_dv2[1])\n",
    "println(\"dv8_dv1 =\", dv8_dv3[1])"
   ],
   "metadata": {},
   "execution_count": null
  },
  {
   "cell_type": "markdown",
   "source": [
    "## 1.3 Distributed AAD\n",
    "\n",
    "With `Quantum` and `NumericalData`, implementing AAD for large and complex applications or\n",
    "systems becomes easy. In this section, we show a real world AAD use case of pricing a\n",
    "portfolio of derivatives with a distributed graph.\n",
    "\n",
    "We first start a local cluster consisting of 3 worker processes to mimic a physical cluster."
   ],
   "metadata": {}
  },
  {
   "outputs": [],
   "cell_type": "code",
   "source": [
    "using JuliusApps: QFin\n",
    "\n",
    "# date grid for pricing the portfolio\n",
    "dgrid = QFin.dategrid(80; nmonth=3)\n",
    "config = RuleDSL.newconfig(QFin.QFinConfig(dgrid), :project=>\"PV/AAD\");\n",
    "\n",
    "# the balancer defines different strategies to distribute the graph computation\n",
    "# CopyRVs is the most efficient strategy for AAD\n",
    "balancer = GraphVM.CopyRVs();\n",
    "my_domain = GraphVM.mydomain()\n",
    "\n",
    "# draw a port number to start the local cluster esrvice\n",
    "clusterport = GraphVM.drawdataport();"
   ],
   "metadata": {},
   "execution_count": null
  },
  {
   "outputs": [],
   "cell_type": "code",
   "source": [
    "# start a local master service at the given port\n",
    "\n",
    "GraphVM.startlocalmasterservice(clusterport, 3);"
   ],
   "metadata": {},
   "execution_count": null
  },
  {
   "cell_type": "markdown",
   "source": [
    "We then create a portfolio of 1000 trades across 10 desks, each consisting of 10 trading\n",
    "books with 10 trades of Swap, Swaptions, CDS or cross currency swaps, etc."
   ],
   "metadata": {}
  },
  {
   "outputs": [],
   "cell_type": "code",
   "source": [
    "ndesk, nbook, ntrade = 10, 10, 10\n",
    "nd = RuleDSL.getconfig(config, :nd)\n",
    "asofs = collect(0:4:nd-1)\n",
    "nodes, apv, aads = QFin.createbook(config, asofs, ndesk, nbook, ntrade);\n",
    "book = apv.params[1];\n",
    "\n",
    "# risk view, defining the sensitivities to compute, ie, the x in dy/dx\n",
    "rvs = Set([RuleDSL.@ref fac.riskview(book)]);"
   ],
   "metadata": {},
   "execution_count": null
  },
  {
   "outputs": [],
   "cell_type": "code",
   "source": [
    "cs = RuleDSL.NumericalData(config, rvs)\n",
    "gs = GraphVM.RemoteGraphProxy(config, my_domain => clusterport, balancer, cs, true)\n",
    "GraphVM.wait4clusterinit(gs)\n",
    "GraphVM.rpccall(gs.rpc, :workerstatus)"
   ],
   "metadata": {},
   "execution_count": null
  },
  {
   "outputs": [],
   "cell_type": "code",
   "source": [
    "GraphVM.@remote_eval gs begin\n",
    "    using JuliusApps, GraphIO\n",
    "    using GraphEngine: RuleDSL, GraphVM\n",
    "end\n",
    "\n",
    "GraphVM.waitcheckstatus(gs, RuleDSL.getconfig(config, :project));"
   ],
   "metadata": {},
   "execution_count": null
  },
  {
   "outputs": [],
   "cell_type": "code",
   "source": [
    "jobs = Set{Vector{RuleDSL.NodeRef}}([k.first] for k in nodes);\n",
    "GraphVM.createremotegraph(gs, jobs, Set{Symbol}());"
   ],
   "metadata": {},
   "execution_count": null
  },
  {
   "outputs": [],
   "cell_type": "code",
   "source": [
    "cid = UInt(0)\n",
    "eid = hash(apv)\n",
    "GraphVM.calcfwd!(gs, cid, Set(eid))\n",
    "GraphVM.calcback!(gs, eid, asofs)\n",
    "\n",
    "GraphVM.waitcheckstatus(gs, RuleDSL.getconfig(config, :project));\n",
    "\n",
    "# show the stats of resulting graph\n",
    "stats = GraphVM.rpccall(gs, GraphIO.graphstats, UInt(1), UInt(1))\n",
    "stats[:cnt]"
   ],
   "metadata": {},
   "execution_count": null
  },
  {
   "cell_type": "markdown",
   "source": [
    "The resulting graph has about 30,000 nodes and cannot be displayed on a single chart, so we\n",
    "only show the top portion instead. The full AAD results can be visualized by clicking the\n",
    "URL below to enter the interactive web UI, then select the AAD link on the right panel."
   ],
   "metadata": {}
  },
  {
   "outputs": [],
   "cell_type": "code",
   "source": [
    "svg = GraphIO.postremotegraph(gs, port, true; maxnode=UInt(120));\n",
    "display(\"image/svg+xml\", svg)"
   ],
   "metadata": {},
   "execution_count": null
  },
  {
   "cell_type": "markdown",
   "source": [
    "In this pricing example, there are about 800 different risk factors, and the $\\vec y$ is a\n",
    "pricing vector for 20 annual time steps under a forecasted market evolution for the next 20\n",
    "years. Each of the risk factors has 80 quarterly sample intervals, so the total number of\n",
    "individual sensitivities are roughly 800 x 20 x 80 = 1.28MM, all of which are computed via\n",
    "AAD in about 15 seconds (depending on the hardware), which is extremely fast.\n",
    "\n",
    "The following call shows the computation time for each stage of pricing on the 1,000 trades\n",
    "in the derivative portfolio. The computational time is reported in seconds for graph\n",
    "creation, primal calculation, AAD calculation and final clean up."
   ],
   "metadata": {}
  },
  {
   "outputs": [],
   "cell_type": "code",
   "source": [
    "GraphVM.rpccall(gs, :displaychecks)"
   ],
   "metadata": {},
   "execution_count": null
  },
  {
   "cell_type": "markdown",
   "source": [
    "## Conclusion\n",
    "\n",
    "By leveraging its distributed graph capabilities, Julius Graph Engine can easily create\n",
    "large scale applications or systems with end to end AAD capabilities. Julius achieved\n",
    "extreme memory efficiency in its AAD implementaton by caching only at the node level, and\n",
    "by not maintaining any memory intensive tapes."
   ],
   "metadata": {}
  },
  {
   "cell_type": "markdown",
   "source": [
    "---\n",
    "\n",
    "*This notebook was generated using [Literate.jl](https://github.com/fredrikekre/Literate.jl).*"
   ],
   "metadata": {}
  }
 ],
 "nbformat_minor": 3,
 "metadata": {
  "language_info": {
   "file_extension": ".jl",
   "mimetype": "application/julia",
   "name": "julia",
   "version": "1.6.3"
  },
  "kernelspec": {
   "name": "julia-1.6",
   "display_name": "Julia 1.6.3",
   "language": "julia"
  }
 },
 "nbformat": 4
}
