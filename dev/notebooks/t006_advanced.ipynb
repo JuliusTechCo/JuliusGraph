{
 "cells": [
  {
   "cell_type": "markdown",
   "source": [
    "# Tutorial 6: Advanced Features"
   ],
   "metadata": {}
  },
  {
   "cell_type": "markdown",
   "source": [
    "## How to use this tutorial\n",
    "\n",
    "  * Select \"run all cells\" on this notebook from the Run menu in Jupyter notebook or Jupyter\n",
    "    lab. This step will produce the intermediate data output and charts. You can also run\n",
    "    individual cells by selecting that cell and pressing `Shift+Enter` key.\n",
    "  * Some cells print out a url, which you can click on and bring up an interactive web UI to\n",
    "    visualize the graph data.\n",
    "  * Time Limits: please be aware of the following time limits to conserve CPU and memory:\n",
    "    * 15 min: Some tutorials use local clusters consisting of multiple processes to mimic\n",
    "      the effects of graph distribution over a remote cluster. By default, these local clusters\n",
    "      automatically stop after idling for 15 minutes.\n",
    "      If you see an 504 gateway timeout error in the web UI, it is most likely your local cluster has stopped.\n",
    "      In that case, you will need to rerun the entire notebook by selecting \"Restart Kernel and Run All Cells\".\n",
    "    * 1 hour: notebook kernels will terminate after no user activity for 1 hour, the kernel\n",
    "      status on the right upper corner will show \"No Kernel\" afterwards. You can select\n",
    "      \"Restart Kernel and Run All Cells\" from the Kernel menu, to restart the kernel and re-run\n",
    "      the notebook.\n",
    "    * 2 hours: you will be logged out if no user activity for 2 hours. Afterwards you need\n",
    "      to login to Julius dev environment again by going to [https://juliusgraph.com](https://juliusgraph.com)\n",
    "  * Additional resources (video demos & blogs) are available at http://juliustech.co.\n",
    "  * To report bugs or request new features, please raise an issue\n",
    "    [here](https://github.com/JuliusTechCo/JuliusGraph/issues).\n",
    "    To schedule a live demo, please go to [http://juliustech.co](http://juliustech.co).\n",
    "    Please email us at info@juliustech.co for other general inquiries."
   ],
   "metadata": {}
  },
  {
   "cell_type": "markdown",
   "source": [
    "## Introduction\n",
    "\n",
    "This tutorial covers some advanced features in the Julius Graph Engine:\n",
    "* Caching\n",
    "* Cloning of namespaces and Change management\n",
    "* Packaging rules into an atom\n",
    "* Error Handling\n",
    "\n",
    "We use the same Fibonacci sequence example as in the AAD tutorial to illustrate these\n",
    "advanced topics."
   ],
   "metadata": {}
  },
  {
   "outputs": [],
   "cell_type": "code",
   "source": [
    "# disable the display of information logging\n",
    "using Base.CoreLogging\n",
    "disable_logging(CoreLogging.Info)\n",
    "\n",
    "using GraphEngine: RuleDSL, GraphVM\n",
    "using GraphEngine.RuleDSL\n",
    "using GraphIO\n",
    "\n",
    "# start data server for web UI\n",
    "gss = Dict{String,RuleDSL.AbstractGraphState}()\n",
    "port = GraphVM.drawdataport()\n",
    "@async GraphVM.startresponder(gss, port)"
   ],
   "metadata": {},
   "execution_count": null
  },
  {
   "cell_type": "markdown",
   "source": [
    "The following few rules define the Fibonacci sequence using the rule syntax."
   ],
   "metadata": {}
  },
  {
   "outputs": [],
   "cell_type": "code",
   "source": [
    "@addrules series begin\n",
    "    fib(x::Float64) = Alias(fib(Int(floor(x))))\n",
    "    fib(n::Int) = RuleDSL.Alias(fib(n, Val(n <= 1)))\n",
    "    fib(n::Int, isend::Val{false}) = begin\n",
    "        RuleDSL.WeightedSum[[1.0; 1.0]](\n",
    "            fib(n - 1, Val(n <= 2)), fib(n - 2, Val(n <= 3))\n",
    "        )\n",
    "    end\n",
    "    fib(n::Int, isend::Val{true}) = RuleDSL.Constant[[fill(Float64(n), 1)]]()\n",
    "end\n",
    "\n",
    "config = RuleDSL.Config();"
   ],
   "metadata": {},
   "execution_count": null
  },
  {
   "cell_type": "markdown",
   "source": [
    "The following two functions override the nodelabel function for the customized display of\n",
    "graph nodes. Users can freely override them to customize the text label display on the\n",
    "computation graph."
   ],
   "metadata": {}
  },
  {
   "outputs": [],
   "cell_type": "code",
   "source": [
    "import GraphEngine.RuleDSL: nodelabel\n",
    "\n",
    "# override displays\n",
    "function nodelabel(::RuleDSL.AbstractGraphState, r::RuleDSL.RuleNode)\n",
    "    hdr = \"$(r.ns).$(r.op[1])\"\n",
    "    typestr(x) = x.args[2]\n",
    "    typ = join(typestr.(r.op[2]), \", \")\n",
    "\n",
    "    return hdr * \"($typ)\"\n",
    "end\n",
    "\n",
    "function nodelabel(::RuleDSL.AbstractGraphState, ref::RuleDSL.NodeRef)\n",
    "    hdr = \"$(ref.ns).$(ref.name)\"\n",
    "    ps = join(simplerepr.(ref.params), \", \")\n",
    "\n",
    "    return \"$hdr($ps)\"\n",
    "end"
   ],
   "metadata": {},
   "execution_count": null
  },
  {
   "cell_type": "markdown",
   "source": [
    "We first compute the primal and AAD of a Fibonacci sequence."
   ],
   "metadata": {}
  },
  {
   "outputs": [],
   "cell_type": "code",
   "source": [
    "fib5 = @ref series.fib(5.2)\n",
    "fib0 = @ref series.fib(0, Val(true))\n",
    "fib1 = @ref series.fib(1, Val(true))\n",
    "\n",
    "cs = RuleDSL.NumericalData(config, Set([fib0, fib1]));\n",
    "gs = RuleDSL.createlocalgraph(config, cs);\n",
    "RuleDSL.calcfwd!(gs, Set([fib5]));\n",
    "RuleDSL.calcback!(gs, Set([hash(fib5)]));"
   ],
   "metadata": {},
   "execution_count": null
  },
  {
   "cell_type": "markdown",
   "source": [
    "We can retrieve the results of $\\vec y$ and the 1st order derivatives from AAD."
   ],
   "metadata": {}
  },
  {
   "outputs": [],
   "cell_type": "code",
   "source": [
    "y = RuleDSL.getys(gs, hash(fib5))\n",
    "dydx0 = RuleDSL.getyds(gs, hash(fib0), hash(fib5))\n",
    "dydx1 = RuleDSL.getyds(gs, hash(fib1), hash(fib5))\n",
    "\n",
    "println(\"fib5 =\", y[1])\n",
    "println(\"dfib5_dfib0 =\", dydx0[1])\n",
    "println(\"dfib5_dfib1 =\", dydx1[1])"
   ],
   "metadata": {},
   "execution_count": null
  },
  {
   "cell_type": "markdown",
   "source": [
    "The corresponding computational graph is shown here, and you can click the link below to\n",
    "see it in an interactive web UI."
   ],
   "metadata": {}
  },
  {
   "outputs": [],
   "cell_type": "code",
   "source": [
    "svg = GraphIO.postlocalgraph(gss, deepcopy(gs), port, true; key=\"fib5\");\n",
    "display(\"image/svg+xml\", svg)"
   ],
   "metadata": {},
   "execution_count": null
  },
  {
   "cell_type": "markdown",
   "source": [
    "## Caching\n",
    "\n",
    "Because Julius automatically caches all the intermediate results in the graph, any\n",
    "incremental computation will re-use existing values in the cache, instead of\n",
    "recomputing them from scratch. The following cells show that when computing `fib(10)`,\n",
    "all the nodes up to `fib(5)` from the previous step are re-used."
   ],
   "metadata": {}
  },
  {
   "outputs": [],
   "cell_type": "code",
   "source": [
    "fib10 = @ref series.fib(10)\n",
    "GraphVM.calcfwd!(gs, Set([fib10]));\n",
    "RuleDSL.calcback!(gs, Set([hash(fib10)]));\n",
    "\n",
    "y = RuleDSL.getys(gs, hash(fib10))\n",
    "df10df0 = RuleDSL.getyds(gs, hash(fib0), hash(fib10))\n",
    "df10df1 = RuleDSL.getyds(gs, hash(fib1), hash(fib10))\n",
    "\n",
    "println(\"fib10 =\", y[1])\n",
    "println(\"dfib10_dfib0 =\", df10df0[1])\n",
    "println(\"dfib10_dfib1 =\", df10df1[1])"
   ],
   "metadata": {},
   "execution_count": null
  },
  {
   "cell_type": "markdown",
   "source": [
    "The corresponding computational graph is shown below:"
   ],
   "metadata": {}
  },
  {
   "outputs": [],
   "cell_type": "code",
   "source": [
    "svg = GraphIO.postlocalgraph(gss, deepcopy(gs), port, true; key=\"fib10\");\n",
    "display(\"image/svg+xml\", svg)"
   ],
   "metadata": {},
   "execution_count": null
  },
  {
   "cell_type": "markdown",
   "source": [
    "## Namespace Clone and Override\n",
    "\n",
    "Rules are organized within individual namespaces in the Julius RuleDSL. For example the `series`\n",
    "is a namespace in the rules declaration above.\n",
    "One important feature of Julius is that the rules can be cloned to different namespaces and\n",
    "overridden. This facilitates comparisons between the old and new versions of rules, making\n",
    "change management and impact analysis very simple in practice.\n",
    "\n",
    "For example, if we update the above Fibonacci sequence definition to take random vectors as\n",
    "fib(0) and fib(1) instead of 0 and 1, we can create a clone of the namespace \"series\" and\n",
    "override the corresponding rules."
   ],
   "metadata": {}
  },
  {
   "outputs": [],
   "cell_type": "code",
   "source": [
    "@clone series => vecs\n",
    "\n",
    "@addrules vecs begin\n",
    "    fib(n::Int, isend::Val{true}) = RuleDSL.Constant[[randn(10)]]()\n",
    "end"
   ],
   "metadata": {},
   "execution_count": null
  },
  {
   "outputs": [],
   "cell_type": "code",
   "source": [
    "vfib10 = @ref vecs.fib(10)\n",
    "@time GraphVM.calcfwd!(gs, Set([vfib10]));\n",
    "\n",
    "y = RuleDSL.getys(gs, hash(vfib10))\n",
    "println(\"vfib10 =\", y[1])"
   ],
   "metadata": {},
   "execution_count": null
  },
  {
   "cell_type": "markdown",
   "source": [
    "We can show a side by side comparison of the two versions of the calculation,\n",
    "before and after changing the initial values to random vectors. You can compare the before\n",
    "and after values of individual nodes in the interactive web UI, by clicking the URL below."
   ],
   "metadata": {}
  },
  {
   "outputs": [],
   "cell_type": "code",
   "source": [
    "svg = GraphIO.postlocalgraph(gss, deepcopy(gs), port, true; key=\"vecs\");\n",
    "display(\"image/svg+xml\", svg)"
   ],
   "metadata": {},
   "execution_count": null
  },
  {
   "cell_type": "markdown",
   "source": [
    "## Packaging\n",
    "\n",
    "When the computational graph becomes sufficiently large, it can be difficult for a user to navigate and\n",
    "visualize. Julius supports packaged atoms, which uses a set of Rules to define an atom\n",
    "with its own internal computational graph. The packaged atom can then be subsequently referred\n",
    "to by other rules. The iterative layering of rules and packaged atoms allows easy\n",
    "composition of complicated logic and analytics.\n",
    "\n",
    "The following code cell shows how to create and use a packaged atom, using the macro\n",
    "`RuleDSL.@combonquantom`. A similar `RuleDSL.@combodatom` is also provided to create\n",
    "packaged `Datom` object."
   ],
   "metadata": {}
  },
  {
   "outputs": [],
   "cell_type": "code",
   "source": [
    "using GraphEngine.RuleDSL: Source\n",
    "\n",
    "# the first argument must be the config\n",
    "@comboquantom function Fib[config::RuleDSL.Config, m::Int](fac.xarg(0), fac.xarg(1))\n",
    "    fib(n::Int) = Alias(fib(n, Val(n <= 1)))\n",
    "    fib(n::Int, isend::Val{false}) = begin\n",
    "        RuleDSL.WeightedSum[[1.0; 1.0]](fib(n - 1, Val(n <= 2)), fib(n - 2, Val(n <= 3)))\n",
    "    end\n",
    "    fib(n::Int, isend::Val{true}) = Alias(fac.xarg(n))\n",
    "\n",
    "    return fib(m)\n",
    "end\n",
    "\n",
    "@addrules pack begin\n",
    "    randv(id::Int, d::Int) = RuleDSL.Constant[[randn(d)]]()\n",
    "    fib(n::Int, d::Int) = Fib[@config, n](randv(0, d), randv(1, d))\n",
    "end"
   ],
   "metadata": {},
   "execution_count": null
  },
  {
   "outputs": [],
   "cell_type": "code",
   "source": [
    "d = 10\n",
    "p20 = @ref pack.fib(20, d)\n",
    "p0 = @ref pack.randv(0, d)\n",
    "p1 = @ref pack.randv(1, d)\n",
    "\n",
    "gs = RuleDSL.createlocalgraph(config, RuleDSL.NumericalData())\n",
    "RuleDSL.calcfwd!(gs, Set([p20]));\n",
    "RuleDSL.calcback!(gs, Set(hash.(p20)), Set([p0; p1]));\n",
    "\n",
    "dp20dp0 = RuleDSL.getyds(gs, hash(p0), hash(p20))\n",
    "dp10dp1 = RuleDSL.getyds(gs, hash(p1), hash(p20))\n",
    "\n",
    "println(\"fib20 =\", RuleDSL.getys(gs, hash(p20)))\n",
    "println(\"dfib20_dfib0 =\", dp20dp0[1])\n",
    "println(\"dfib20_dfib1 =\", dp20dp0[1])"
   ],
   "metadata": {},
   "execution_count": null
  },
  {
   "cell_type": "markdown",
   "source": [
    "The AAD works automatically across the packaged atoms, as shown in the cell above. The\n",
    "following cell shows that the top level graph is much simpler to visualize using the packaged atom.\n",
    "A user can drill down to the full details of the inner graph of the packaged atom from the\n",
    "interactive web UI by clicking on the URL below."
   ],
   "metadata": {}
  },
  {
   "outputs": [],
   "cell_type": "code",
   "source": [
    "svg = GraphIO.postlocalgraph(gss, deepcopy(gs), port, true; key=\"pack\");\n",
    "display(\"image/svg+xml\", svg)"
   ],
   "metadata": {},
   "execution_count": null
  },
  {
   "cell_type": "markdown",
   "source": [
    "## Error Handling\n",
    "\n",
    "The Julius Graph Engine handles errors graciously and gives users clear indications on where\n",
    "the errors arise. The following code creates an exception using the `Error` Quantom at the\n",
    "back AD stage."
   ],
   "metadata": {}
  },
  {
   "outputs": [],
   "cell_type": "code",
   "source": [
    "using Test\n",
    "\n",
    "@clone series => err\n",
    "\n",
    "@addrules err begin\n",
    "    # parameter 2 in Error create error at ad stage\n",
    "    fib(n::Int, isend::Val{false}) = RuleDSL.Error[2](series.fib(n, isend))\n",
    "end\n",
    "\n",
    "efibn = @ref err.fib(10)\n",
    "xs = Set([@ref series.fib(0); @ref series.fib(1)])\n",
    "\n",
    "gs = RuleDSL.createlocalgraph(config, RuleDSL.NumericalData())\n",
    "try\n",
    "    RuleDSL.calcfwd!(gs, Set([efibn]))\n",
    "    RuleDSL.calcback!(gs, Set(hash(efibn)), xs)\n",
    "catch e\n",
    "    println(\"error caught: $e\")\n",
    "end"
   ],
   "metadata": {},
   "execution_count": null
  },
  {
   "cell_type": "markdown",
   "source": [
    "The nodes with errors are highlighted automatically in the interactive web UI under\n",
    "the section \"errors in graph\"."
   ],
   "metadata": {}
  },
  {
   "outputs": [],
   "cell_type": "code",
   "source": [
    "svg = GraphIO.postlocalgraph(gss, deepcopy(gs), port, true; key=\"err\");\n",
    "display(\"image/svg+xml\", svg)"
   ],
   "metadata": {},
   "execution_count": null
  },
  {
   "cell_type": "markdown",
   "source": [
    "## Manage Rules Upgrades\n",
    "\n",
    "During the development process, we may need to upgrade certain rules to a newer\n",
    "version, while encouraging existing users to migrate. This can be achieved through the use\n",
    "of warning messages. For example, if we want to retire the series.fib and migrate users to\n",
    "the new version of vecs.fib, a warning message can be generated for existing users on the\n",
    "old rules:"
   ],
   "metadata": {}
  },
  {
   "outputs": [],
   "cell_type": "code",
   "source": [
    "@addrules series begin\n",
    "    fib(n::Int, isend::Val{true}; warn=\"deprecated, please use vecs.fib instead\") = begin\n",
    "        RuleDSL.Constant[[fill(Float64(n), 1)]]()\n",
    "    end\n",
    "end\n",
    "\n",
    "efibn = @ref series.fib(10)\n",
    "gs = RuleDSL.createlocalgraph(config, RuleDSL.NumericalData(Set{UInt}()))\n",
    "@time RuleDSL.calcfwd!(gs, Set([efibn]));"
   ],
   "metadata": {},
   "execution_count": null
  },
  {
   "cell_type": "markdown",
   "source": [
    "After the migration period has ended, we can change the old rules to throw an error and\n",
    "force users to upgrade."
   ],
   "metadata": {}
  },
  {
   "outputs": [],
   "cell_type": "code",
   "source": [
    "@addrules series begin\n",
    "    fib(n::Int, isend::Val{true}; error=\"deprecated, please use vecs.fib instead\") = begin\n",
    "        RuleDSL.Constant[[fill(Float64(n), 1)]]()\n",
    "    end\n",
    "end\n",
    "\n",
    "gs = RuleDSL.createlocalgraph(config, RuleDSL.NumericalData())\n",
    "try\n",
    "    RuleDSL.calcfwd!(gs, Set([efibn]))\n",
    "catch e\n",
    "    println(\"error caught $e\")\n",
    "end"
   ],
   "metadata": {},
   "execution_count": null
  },
  {
   "cell_type": "markdown",
   "source": [
    "---\n",
    "\n",
    "*This notebook was generated using [Literate.jl](https://github.com/fredrikekre/Literate.jl).*"
   ],
   "metadata": {}
  }
 ],
 "nbformat_minor": 3,
 "metadata": {
  "language_info": {
   "file_extension": ".jl",
   "mimetype": "application/julia",
   "name": "julia",
   "version": "1.6.3"
  },
  "kernelspec": {
   "name": "julia-1.6",
   "display_name": "Julia 1.6.3",
   "language": "julia"
  }
 },
 "nbformat": 4
}
